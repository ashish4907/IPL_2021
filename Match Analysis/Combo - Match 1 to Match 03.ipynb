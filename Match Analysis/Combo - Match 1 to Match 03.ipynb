{
 "cells": [
  {
   "cell_type": "code",
   "execution_count": 1,
   "id": "labeled-bernard",
   "metadata": {},
   "outputs": [],
   "source": [
    "import pandas as pd\n",
    "import os\n",
    "pd.options.mode.chained_assignment= None"
   ]
  },
  {
   "cell_type": "code",
   "execution_count": 2,
   "id": "heavy-malaysia",
   "metadata": {},
   "outputs": [],
   "source": [
    "files= [file for file in os.listdir('./CSV Files')]\n",
    "\n",
    "all_matches_data=pd.DataFrame()\n",
    "\n",
    "for file in files:\n",
    "    df=pd.read_csv('./CSV Files/'+file)\n",
    "    all_matches_data=pd.concat([all_matches_data,df])"
   ]
  },
  {
   "cell_type": "code",
   "execution_count": 3,
   "id": "bizarre-institute",
   "metadata": {},
   "outputs": [],
   "source": [
    "# all_matches_data.to_csv('Combo_Match1_to_Match3.csv',index=False)"
   ]
  },
  {
   "cell_type": "code",
   "execution_count": 4,
   "id": "genuine-scholarship",
   "metadata": {},
   "outputs": [],
   "source": [
    "df= pd.read_csv('Combo CSV Files\\Combo_Match1_to_Match3.csv',index_col='Players')"
   ]
  },
  {
   "cell_type": "code",
   "execution_count": 5,
   "id": "peripheral-guitar",
   "metadata": {},
   "outputs": [
    {
     "data": {
      "text/plain": [
       "94"
      ]
     },
     "execution_count": 5,
     "metadata": {},
     "output_type": "execute_result"
    }
   ],
   "source": [
    "df.Fours.sum()"
   ]
  },
  {
   "cell_type": "code",
   "execution_count": 6,
   "id": "knowing-wheat",
   "metadata": {},
   "outputs": [
    {
     "data": {
      "text/plain": [
       "43"
      ]
     },
     "execution_count": 6,
     "metadata": {},
     "output_type": "execute_result"
    }
   ],
   "source": [
    "df.Sixes.sum()"
   ]
  },
  {
   "cell_type": "code",
   "execution_count": 7,
   "id": "classical-constraint",
   "metadata": {},
   "outputs": [
    {
     "data": {
      "text/plain": [
       "Team\n",
       "Delhi Capitals                24\n",
       "Kolkata Knight Riders         18\n",
       "Chennai Super Kings           16\n",
       "Mumbai Indians                15\n",
       "Royal Challengers Banglore    12\n",
       "Sunrisers Hyderabad            9\n",
       "Name: Fours, dtype: int64"
      ]
     },
     "execution_count": 7,
     "metadata": {},
     "output_type": "execute_result"
    }
   ],
   "source": [
    "df.groupby('Team').Fours.sum().nlargest(8)"
   ]
  },
  {
   "cell_type": "code",
   "execution_count": 8,
   "id": "diagnostic-effects",
   "metadata": {},
   "outputs": [
    {
     "data": {
      "text/plain": [
       "Team\n",
       "Chennai Super Kings           10\n",
       "Sunrisers Hyderabad           10\n",
       "Kolkata Knight Riders          8\n",
       "Mumbai Indians                 6\n",
       "Delhi Capitals                 5\n",
       "Royal Challengers Banglore     4\n",
       "Name: Sixes, dtype: int64"
      ]
     },
     "execution_count": 8,
     "metadata": {},
     "output_type": "execute_result"
    }
   ],
   "source": [
    "df.groupby('Team').Sixes.sum().nlargest(8)"
   ]
  },
  {
   "cell_type": "markdown",
   "id": "consistent-crystal",
   "metadata": {},
   "source": [
    "# 1. BATSMAN"
   ]
  },
  {
   "cell_type": "code",
   "execution_count": 9,
   "id": "intense-wyoming",
   "metadata": {},
   "outputs": [],
   "source": [
    "Batsman=df[['Team','Match Played','Batsman Runs','Balls','Fours','Sixes','Strike Rate','50s','100s','Vs','Times Out']]"
   ]
  },
  {
   "cell_type": "code",
   "execution_count": 10,
   "id": "controlling-religious",
   "metadata": {},
   "outputs": [],
   "source": [
    "Batsman.replace(to_replace=['Yes','No'],value=[0,1],inplace=True)"
   ]
  },
  {
   "cell_type": "code",
   "execution_count": 11,
   "id": "objective-invasion",
   "metadata": {},
   "outputs": [],
   "source": [
    "Batsman['Times Out'] = Batsman['Times Out'].astype(float)"
   ]
  },
  {
   "cell_type": "code",
   "execution_count": 12,
   "id": "surprising-jurisdiction",
   "metadata": {},
   "outputs": [],
   "source": [
    "BR=Batsman.groupby(by=['Players','Team'])[['Match Played','Batsman Runs','Balls','Fours','Sixes','50s','100s','Vs','Times Out']].sum().nlargest(1000,'Batsman Runs')"
   ]
  },
  {
   "cell_type": "code",
   "execution_count": 13,
   "id": "political-rapid",
   "metadata": {},
   "outputs": [],
   "source": [
    "BR['Strike Rate'] = BR['Batsman Runs']/BR['Balls']*100"
   ]
  },
  {
   "cell_type": "code",
   "execution_count": 14,
   "id": "controlled-snake",
   "metadata": {},
   "outputs": [
    {
     "ename": "NameError",
     "evalue": "name 'batsman' is not defined",
     "output_type": "error",
     "traceback": [
      "\u001b[1;31m---------------------------------------------------------------------------\u001b[0m",
      "\u001b[1;31mNameError\u001b[0m                                 Traceback (most recent call last)",
      "\u001b[1;32m<ipython-input-14-d8e9f44c73c5>\u001b[0m in \u001b[0;36m<module>\u001b[1;34m\u001b[0m\n\u001b[1;32m----> 1\u001b[1;33m \u001b[0mbatsman\u001b[0m\u001b[1;33m.\u001b[0m\u001b[0mloc\u001b[0m\u001b[1;33m[\u001b[0m\u001b[0mbatsman\u001b[0m\u001b[1;33m[\u001b[0m\u001b[1;34m'Balls'\u001b[0m\u001b[1;33m]\u001b[0m \u001b[1;33m>=\u001b[0m\u001b[1;36m1\u001b[0m \u001b[1;33m,\u001b[0m \u001b[1;34m'Innings'\u001b[0m\u001b[1;33m]\u001b[0m \u001b[1;33m=\u001b[0m \u001b[0mbatsman\u001b[0m\u001b[1;33m[\u001b[0m\u001b[1;34m'Match Played'\u001b[0m\u001b[1;33m]\u001b[0m\u001b[1;33m\u001b[0m\u001b[1;33m\u001b[0m\u001b[0m\n\u001b[0m",
      "\u001b[1;31mNameError\u001b[0m: name 'batsman' is not defined"
     ]
    }
   ],
   "source": [
    "batsman.loc[batsman['Balls'] >=1 , 'Innings'] = batsman['Match Played']"
   ]
  },
  {
   "cell_type": "code",
   "execution_count": null,
   "id": "cardiovascular-montgomery",
   "metadata": {},
   "outputs": [],
   "source": [
    "batsman.loc[(batsman['Times Out'] == 0) & (batsman['Match Played'] >=1) ,'Average'] = batsman['Batsman Runs']/batsman['Match Played']\n",
    "batsman.loc[(batsman['Times Out'] == 1) & (batsman['Match Played'] == 1),'Average'] = batsman['Batsman Runs']"
   ]
  },
  {
   "cell_type": "markdown",
   "id": "blank-position",
   "metadata": {},
   "source": [
    "# 1. a) Most Runs"
   ]
  },
  {
   "cell_type": "code",
   "execution_count": null,
   "id": "international-guest",
   "metadata": {},
   "outputs": [],
   "source": [
    "batsman[['Match Played','Batsman Runs','Average']].nlargest(15,'Batsman Runs').round(2)"
   ]
  },
  {
   "cell_type": "markdown",
   "id": "auburn-transaction",
   "metadata": {},
   "source": [
    "# 1. b) Highest Scores"
   ]
  },
  {
   "cell_type": "code",
   "execution_count": null,
   "id": "cordless-architect",
   "metadata": {},
   "outputs": [],
   "source": [
    "Batsman[['Batsman Runs','Balls','Strike Rate','Vs']].nlargest(15,'Batsman Runs')"
   ]
  },
  {
   "cell_type": "markdown",
   "id": "norman-investigation",
   "metadata": {},
   "source": [
    "# 1. c) Best Batting Average"
   ]
  },
  {
   "cell_type": "code",
   "execution_count": null,
   "id": "developed-transmission",
   "metadata": {},
   "outputs": [],
   "source": [
    "batsman[['Match Played','Batsman Runs','Average']].nlargest(15,'Average').round(2)"
   ]
  },
  {
   "cell_type": "markdown",
   "id": "eleven-favor",
   "metadata": {},
   "source": [
    "# 1. d) Best Batting Strike Rate"
   ]
  },
  {
   "cell_type": "code",
   "execution_count": null,
   "id": "vulnerable-insider",
   "metadata": {},
   "outputs": [],
   "source": [
    "batsman[['Match Played','Batsman Runs','Strike Rate']].nlargest(15,'Strike Rate')"
   ]
  },
  {
   "cell_type": "markdown",
   "id": "exciting-yield",
   "metadata": {},
   "source": [
    "# 1. e) Most Fifties"
   ]
  },
  {
   "cell_type": "code",
   "execution_count": null,
   "id": "multiple-moscow",
   "metadata": {},
   "outputs": [],
   "source": [
    "batsman[['Match Played','Batsman Runs','50s']].nlargest(7,'50s')"
   ]
  },
  {
   "cell_type": "markdown",
   "id": "residential-adobe",
   "metadata": {},
   "source": [
    "# 1. f) Most Fours"
   ]
  },
  {
   "cell_type": "code",
   "execution_count": null,
   "id": "secure-analysis",
   "metadata": {},
   "outputs": [],
   "source": [
    "batsman[['Match Played','Batsman Runs','Fours']].nlargest(15,'Fours')"
   ]
  },
  {
   "cell_type": "markdown",
   "id": "nutritional-struggle",
   "metadata": {},
   "source": [
    "# 1. g) Most Sixes"
   ]
  },
  {
   "cell_type": "code",
   "execution_count": null,
   "id": "fifteen-leone",
   "metadata": {},
   "outputs": [],
   "source": [
    "batsman[['Match Played','Batsman Runs','Sixes']].nlargest(12,'Sixes')"
   ]
  },
  {
   "cell_type": "markdown",
   "id": "intermediate-pound",
   "metadata": {},
   "source": [
    "# 2. BOWLER"
   ]
  },
  {
   "cell_type": "code",
   "execution_count": null,
   "id": "expected-dietary",
   "metadata": {},
   "outputs": [],
   "source": [
    "bowler_played= df[['Team','Match Played','Over','Bowler Balls','Maiden','Bowler Runs','Wickets','Economy Rate','Vs']]"
   ]
  },
  {
   "cell_type": "code",
   "execution_count": null,
   "id": "growing-comedy",
   "metadata": {},
   "outputs": [],
   "source": [
    "Bowler= bowler_played[bowler_played['Bowler Balls'] >=1]"
   ]
  },
  {
   "cell_type": "code",
   "execution_count": null,
   "id": "associate-centre",
   "metadata": {},
   "outputs": [],
   "source": [
    "W= Bowler.groupby(by=['Players','Team'])[['Match Played','Over','Bowler Balls','Maiden','Bowler Runs','Wickets']].sum().nlargest(100,'Wickets')"
   ]
  },
  {
   "cell_type": "code",
   "execution_count": null,
   "id": "bored-marble",
   "metadata": {},
   "outputs": [],
   "source": [
    "W['Economy'] = W['Bowler Runs']/W['Over']"
   ]
  },
  {
   "cell_type": "code",
   "execution_count": null,
   "id": "photographic-ontario",
   "metadata": {},
   "outputs": [],
   "source": [
    "W['Average'] = W['Bowler Runs']/W['Wickets']"
   ]
  },
  {
   "cell_type": "code",
   "execution_count": null,
   "id": "younger-distribution",
   "metadata": {},
   "outputs": [],
   "source": [
    "W['Strike Rate'] = W['Bowler Balls']/W['Wickets']"
   ]
  },
  {
   "cell_type": "code",
   "execution_count": null,
   "id": "technical-devon",
   "metadata": {},
   "outputs": [],
   "source": [
    "bowler = W.round(2)"
   ]
  },
  {
   "cell_type": "code",
   "execution_count": null,
   "id": "lucky-softball",
   "metadata": {},
   "outputs": [],
   "source": [
    "bowler['Wickets'] =bowler['Wickets'].astype(int)"
   ]
  },
  {
   "cell_type": "code",
   "execution_count": null,
   "id": "attached-distinction",
   "metadata": {},
   "outputs": [],
   "source": [
    "bowler.sort_values(by='Wickets',ascending=False).shape"
   ]
  },
  {
   "cell_type": "markdown",
   "id": "twenty-wayne",
   "metadata": {},
   "source": [
    "# 2. a) Most Wickets"
   ]
  },
  {
   "cell_type": "code",
   "execution_count": null,
   "id": "featured-ethernet",
   "metadata": {},
   "outputs": [],
   "source": [
    "bowler[['Match Played','Over','Wickets','Average']].nlargest(15,'Wickets')"
   ]
  },
  {
   "cell_type": "markdown",
   "id": "attached-hopkins",
   "metadata": {},
   "source": [
    "# 2. b) Best Bowling Average"
   ]
  },
  {
   "cell_type": "code",
   "execution_count": null,
   "id": "wrong-emerald",
   "metadata": {},
   "outputs": [],
   "source": [
    "bowler[['Match Played','Over','Wickets','Average']].nsmallest(15,'Average')"
   ]
  },
  {
   "cell_type": "markdown",
   "id": "round-arthritis",
   "metadata": {},
   "source": [
    "# 2. c) Best Economy"
   ]
  },
  {
   "cell_type": "code",
   "execution_count": null,
   "id": "solid-accent",
   "metadata": {},
   "outputs": [],
   "source": [
    "bowler[['Match Played','Over','Wickets','Economy']].nsmallest(15,'Economy')"
   ]
  },
  {
   "cell_type": "markdown",
   "id": "impressive-hunger",
   "metadata": {},
   "source": [
    "# 2. d) Best Bowling Strike Rate"
   ]
  },
  {
   "cell_type": "code",
   "execution_count": null,
   "id": "continental-colorado",
   "metadata": {},
   "outputs": [],
   "source": [
    "bowler[['Match Played','Over','Wickets','Strike Rate']].nsmallest(15,'Strike Rate')"
   ]
  },
  {
   "cell_type": "markdown",
   "id": "surprising-point",
   "metadata": {},
   "source": [
    "# 3. FIELDER"
   ]
  },
  {
   "cell_type": "code",
   "execution_count": null,
   "id": "twenty-notification",
   "metadata": {},
   "outputs": [],
   "source": [
    "fielder_played = df[['Team','Match Played','Catches','Run Out']]"
   ]
  },
  {
   "cell_type": "markdown",
   "id": "foster-trouble",
   "metadata": {},
   "source": [
    "# 3. a) Catches"
   ]
  },
  {
   "cell_type": "code",
   "execution_count": null,
   "id": "applied-demographic",
   "metadata": {},
   "outputs": [],
   "source": [
    " fielder_played.groupby(by=['Players','Team'])[['Match Played','Catches']].sum().nlargest(9,'Catches')"
   ]
  },
  {
   "cell_type": "markdown",
   "id": "physical-motion",
   "metadata": {},
   "source": [
    "# 4. b) Run-Outs"
   ]
  },
  {
   "cell_type": "code",
   "execution_count": null,
   "id": "registered-punishment",
   "metadata": {},
   "outputs": [],
   "source": [
    "fielder_played.groupby(by=['Players','Team'])[['Match Played','Run Out']].sum().nlargest(4,'Run Out')"
   ]
  },
  {
   "cell_type": "markdown",
   "id": "impossible-fisher",
   "metadata": {},
   "source": [
    "# 4. ALL- ROUNDERS"
   ]
  },
  {
   "cell_type": "code",
   "execution_count": null,
   "id": "banned-triangle",
   "metadata": {},
   "outputs": [],
   "source": [
    "All_Rounder = df.groupby(by=['Players','Team'])[['Match Played','Batsman Runs','Balls','Fours','Sixes','Over','Bowler Balls','Bowler Runs','Maiden','Wickets','Catches','Run Out','50s','100s']].sum()"
   ]
  },
  {
   "cell_type": "code",
   "execution_count": null,
   "id": "psychological-algorithm",
   "metadata": {},
   "outputs": [],
   "source": [
    "all_rounder= All_Rounder[(All_Rounder['Balls'] >1) & (All_Rounder['Wickets'] >=1)]"
   ]
  },
  {
   "cell_type": "code",
   "execution_count": null,
   "id": "boolean-customer",
   "metadata": {},
   "outputs": [],
   "source": [
    "all_rounder.shape"
   ]
  },
  {
   "cell_type": "code",
   "execution_count": null,
   "id": "divided-waterproof",
   "metadata": {},
   "outputs": [],
   "source": [
    "all_rounder['Economy Rate'] = all_rounder['Bowler Runs']/all_rounder['Over']"
   ]
  },
  {
   "cell_type": "code",
   "execution_count": null,
   "id": "endangered-baltimore",
   "metadata": {},
   "outputs": [],
   "source": [
    "all_rounder['Strike Rate'] = all_rounder['Batsman Runs']/all_rounder['Balls']*100"
   ]
  },
  {
   "cell_type": "code",
   "execution_count": null,
   "id": "stretch-astrology",
   "metadata": {},
   "outputs": [],
   "source": [
    "all_rounders= all_rounder.round(2)"
   ]
  },
  {
   "cell_type": "markdown",
   "id": "ordered-headquarters",
   "metadata": {},
   "source": [
    "# 4. a) All-rounder with highest Wickets"
   ]
  },
  {
   "cell_type": "code",
   "execution_count": null,
   "id": "supreme-lunch",
   "metadata": {},
   "outputs": [],
   "source": [
    "all_rounders[['Match Played','Batsman Runs','Wickets']].nlargest(10,'Wickets')"
   ]
  },
  {
   "cell_type": "markdown",
   "id": "infinite-timing",
   "metadata": {},
   "source": [
    "# 4. b) All-rounder with highest Runs"
   ]
  },
  {
   "cell_type": "code",
   "execution_count": null,
   "id": "described-maximum",
   "metadata": {},
   "outputs": [],
   "source": [
    "all_rounders[['Match Played','Batsman Runs','Wickets']].nlargest(10,'Batsman Runs')"
   ]
  },
  {
   "cell_type": "code",
   "execution_count": null,
   "id": "rapid-ground",
   "metadata": {},
   "outputs": [],
   "source": []
  }
 ],
 "metadata": {
  "kernelspec": {
   "display_name": "Python 3",
   "language": "python",
   "name": "python3"
  },
  "language_info": {
   "codemirror_mode": {
    "name": "ipython",
    "version": 3
   },
   "file_extension": ".py",
   "mimetype": "text/x-python",
   "name": "python",
   "nbconvert_exporter": "python",
   "pygments_lexer": "ipython3",
   "version": "3.8.8"
  }
 },
 "nbformat": 4,
 "nbformat_minor": 5
}
