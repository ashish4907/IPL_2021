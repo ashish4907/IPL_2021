{
 "cells": [
  {
   "cell_type": "code",
   "execution_count": 1,
   "id": "aging-general",
   "metadata": {},
   "outputs": [],
   "source": [
    "import pandas as pd\n",
    "import os\n",
    "pd.options.mode.chained_assignment= None"
   ]
  },
  {
   "cell_type": "code",
   "execution_count": 2,
   "id": "through-malaysia",
   "metadata": {},
   "outputs": [],
   "source": [
    "files= [file for file in os.listdir('./CSV Files')]\n",
    "\n",
    "all_matches_data=pd.DataFrame()\n",
    "\n",
    "for file in files:\n",
    "    df=pd.read_csv('./CSV Files/'+file)\n",
    "    all_matches_data=pd.concat([all_matches_data,df])"
   ]
  },
  {
   "cell_type": "code",
   "execution_count": 3,
   "id": "married-gazette",
   "metadata": {},
   "outputs": [],
   "source": [
    "# all_matches_data.to_csv('Combo_Match1_to_Match14.csv',index=False)"
   ]
  },
  {
   "cell_type": "code",
   "execution_count": 4,
   "id": "directed-refund",
   "metadata": {},
   "outputs": [],
   "source": [
    " df= pd.read_csv('Combo CSV Files\\Combo_Match1_to_Match14.csv',index_col='Players')"
   ]
  },
  {
   "cell_type": "code",
   "execution_count": 5,
   "id": "widespread-housing",
   "metadata": {},
   "outputs": [
    {
     "data": {
      "text/plain": [
       "165"
      ]
     },
     "execution_count": 5,
     "metadata": {},
     "output_type": "execute_result"
    }
   ],
   "source": [
    "df.Sixes.sum()"
   ]
  },
  {
   "cell_type": "code",
   "execution_count": 6,
   "id": "handled-leadership",
   "metadata": {},
   "outputs": [
    {
     "data": {
      "text/plain": [
       "395"
      ]
     },
     "execution_count": 6,
     "metadata": {},
     "output_type": "execute_result"
    }
   ],
   "source": [
    "df.Fours.sum()"
   ]
  },
  {
   "cell_type": "code",
   "execution_count": 7,
   "id": "informed-disaster",
   "metadata": {},
   "outputs": [
    {
     "data": {
      "text/plain": [
       "Team\n",
       "Punjab Kings                  27\n",
       "Sunrisers Hyderabad           26\n",
       "Rajasthan Royals              24\n",
       "Chennai Super Kings           22\n",
       "Kolkata Knight Riders         20\n",
       "Mumbai Indians                19\n",
       "Royal Challengers Banglore    15\n",
       "Delhi Capitals                12\n",
       "Name: Sixes, dtype: int64"
      ]
     },
     "execution_count": 7,
     "metadata": {},
     "output_type": "execute_result"
    }
   ],
   "source": [
    "df.groupby('Team').Sixes.sum().nlargest(8)"
   ]
  },
  {
   "cell_type": "code",
   "execution_count": 8,
   "id": "cooked-kingdom",
   "metadata": {},
   "outputs": [
    {
     "data": {
      "text/plain": [
       "Team\n",
       "Delhi Capitals                79\n",
       "Punjab Kings                  52\n",
       "Mumbai Indians                51\n",
       "Royal Challengers Banglore    48\n",
       "Kolkata Knight Riders         46\n",
       "Rajasthan Royals              44\n",
       "Chennai Super Kings           42\n",
       "Sunrisers Hyderabad           33\n",
       "Name: Fours, dtype: int64"
      ]
     },
     "execution_count": 8,
     "metadata": {},
     "output_type": "execute_result"
    }
   ],
   "source": [
    "df.groupby('Team').Fours.sum().nlargest(8)"
   ]
  },
  {
   "cell_type": "code",
   "execution_count": null,
   "id": "narrative-details",
   "metadata": {},
   "outputs": [],
   "source": []
  }
 ],
 "metadata": {
  "kernelspec": {
   "display_name": "Python 3",
   "language": "python",
   "name": "python3"
  },
  "language_info": {
   "codemirror_mode": {
    "name": "ipython",
    "version": 3
   },
   "file_extension": ".py",
   "mimetype": "text/x-python",
   "name": "python",
   "nbconvert_exporter": "python",
   "pygments_lexer": "ipython3",
   "version": "3.9.1"
  }
 },
 "nbformat": 4,
 "nbformat_minor": 5
}
