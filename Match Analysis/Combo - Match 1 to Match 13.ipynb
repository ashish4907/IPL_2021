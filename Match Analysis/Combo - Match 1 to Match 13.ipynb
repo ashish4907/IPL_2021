{
 "cells": [
  {
   "cell_type": "code",
   "execution_count": 1,
   "id": "settled-softball",
   "metadata": {},
   "outputs": [],
   "source": [
    "import pandas as pd\n",
    "import os\n",
    "pd.options.mode.chained_assignment= None"
   ]
  },
  {
   "cell_type": "code",
   "execution_count": 2,
   "id": "north-assault",
   "metadata": {},
   "outputs": [],
   "source": [
    "files= [file for file in os.listdir('./CSV Files')]\n",
    "\n",
    "all_matches_data=pd.DataFrame()\n",
    "\n",
    "for file in files:\n",
    "    df=pd.read_csv('./CSV Files/'+file)\n",
    "    all_matches_data=pd.concat([all_matches_data,df])"
   ]
  },
  {
   "cell_type": "code",
   "execution_count": 3,
   "id": "incorporated-printer",
   "metadata": {},
   "outputs": [],
   "source": [
    "# all_matches_data.to_csv('Combo_Match1_to_Match13.csv',index=False)"
   ]
  },
  {
   "cell_type": "code",
   "execution_count": 4,
   "id": "strange-illness",
   "metadata": {},
   "outputs": [],
   "source": [
    " df= pd.read_csv('Combo CSV Files\\Combo_Match1_to_Match13.csv',index_col='Players')"
   ]
  },
  {
   "cell_type": "code",
   "execution_count": 5,
   "id": "complimentary-implement",
   "metadata": {},
   "outputs": [
    {
     "data": {
      "text/plain": [
       "159"
      ]
     },
     "execution_count": 5,
     "metadata": {},
     "output_type": "execute_result"
    }
   ],
   "source": [
    "df.Sixes.sum()"
   ]
  },
  {
   "cell_type": "code",
   "execution_count": 6,
   "id": "upset-profit",
   "metadata": {},
   "outputs": [
    {
     "data": {
      "text/plain": [
       "382"
      ]
     },
     "execution_count": 6,
     "metadata": {},
     "output_type": "execute_result"
    }
   ],
   "source": [
    "df.Fours.sum()"
   ]
  },
  {
   "cell_type": "code",
   "execution_count": 7,
   "id": "popular-breakdown",
   "metadata": {},
   "outputs": [
    {
     "data": {
      "text/plain": [
       "Team\n",
       "Delhi Capitals                79\n",
       "Mumbai Indians                51\n",
       "Royal Challengers Banglore    48\n",
       "Kolkata Knight Riders         46\n",
       "Punjab Kings                  45\n",
       "Rajasthan Royals              44\n",
       "Chennai Super Kings           42\n",
       "Sunrisers Hyderabad           27\n",
       "Name: Fours, dtype: int64"
      ]
     },
     "execution_count": 7,
     "metadata": {},
     "output_type": "execute_result"
    }
   ],
   "source": [
    "df.groupby('Team').Fours.sum().nlargest(8)"
   ]
  },
  {
   "cell_type": "code",
   "execution_count": 8,
   "id": "smoking-archives",
   "metadata": {},
   "outputs": [
    {
     "data": {
      "text/plain": [
       "Team\n",
       "Punjab Kings                  25\n",
       "Rajasthan Royals              24\n",
       "Chennai Super Kings           22\n",
       "Sunrisers Hyderabad           22\n",
       "Kolkata Knight Riders         20\n",
       "Mumbai Indians                19\n",
       "Royal Challengers Banglore    15\n",
       "Delhi Capitals                12\n",
       "Name: Sixes, dtype: int64"
      ]
     },
     "execution_count": 8,
     "metadata": {},
     "output_type": "execute_result"
    }
   ],
   "source": [
    "df.groupby('Team').Sixes.sum().nlargest(8)"
   ]
  },
  {
   "cell_type": "markdown",
   "id": "expired-treat",
   "metadata": {},
   "source": [
    "# BATSMAN"
   ]
  },
  {
   "cell_type": "code",
   "execution_count": 9,
   "id": "prospective-nitrogen",
   "metadata": {},
   "outputs": [],
   "source": [
    "batsman_played= df[['Team','Match Played','Batsman Runs','Balls','Fours','Sixes','Strike Rate','50s','100s','Vs','Times Out']]"
   ]
  },
  {
   "cell_type": "code",
   "execution_count": 10,
   "id": "biblical-management",
   "metadata": {},
   "outputs": [],
   "source": [
    "Batsman= batsman_played[batsman_played['Balls'] >=1]"
   ]
  },
  {
   "cell_type": "code",
   "execution_count": 11,
   "id": "athletic-delay",
   "metadata": {},
   "outputs": [],
   "source": [
    "Batsman.replace(to_replace=['Yes','No'],value=[0,1],inplace=True)"
   ]
  },
  {
   "cell_type": "code",
   "execution_count": 12,
   "id": "accepted-grade",
   "metadata": {},
   "outputs": [],
   "source": [
    "Batsman['Times Out'] = Batsman['Times Out'].astype(float)"
   ]
  },
  {
   "cell_type": "code",
   "execution_count": 13,
   "id": "modified-institution",
   "metadata": {},
   "outputs": [],
   "source": [
    "BR= Batsman.groupby(by=['Players','Team'])[['Match Played','Batsman Runs','Balls','Fours','Sixes','50s','100s','Times Out']].sum().nlargest(100,columns=['Batsman Runs'])"
   ]
  },
  {
   "cell_type": "code",
   "execution_count": 14,
   "id": "entire-perspective",
   "metadata": {},
   "outputs": [],
   "source": [
    "BR['Strike Rate'] = BR['Batsman Runs']/BR['Balls']*100"
   ]
  },
  {
   "cell_type": "code",
   "execution_count": 15,
   "id": "beautiful-suicide",
   "metadata": {},
   "outputs": [],
   "source": [
    "batsman= BR.round(2)"
   ]
  },
  {
   "cell_type": "code",
   "execution_count": 16,
   "id": "owned-jefferson",
   "metadata": {},
   "outputs": [],
   "source": [
    "batsman.loc[batsman['Times Out'] ==0,'Average']  = batsman['Batsman Runs']/batsman['Match Played']\n",
    "batsman.loc[(batsman['Times Out'] == 1) & (batsman['Match Played'] == 1),'Average'] = batsman['Batsman Runs']\n",
    "batsman.loc[(batsman['Times Out'] == 1) & (batsman['Match Played'] >= 2),'Average'] = batsman['Batsman Runs']/(batsman['Match Played']-batsman['Times Out'])\n",
    "batsman.loc[(batsman['Times Out'] == 2) & (batsman['Match Played'] == 2),'Average'] = batsman['Batsman Runs']\n",
    "batsman.loc[(batsman['Times Out'] == 3) & (batsman['Match Played'] == 3),'Average'] = batsman['Batsman Runs']\n",
    "batsman.loc[(batsman['Times Out'] == 2) & (batsman['Match Played'] >= 3),'Average'] = batsman['Batsman Runs']/(batsman['Match Played']-1)"
   ]
  },
  {
   "cell_type": "code",
   "execution_count": 17,
   "id": "disciplinary-interface",
   "metadata": {},
   "outputs": [],
   "source": [
    "batsman.loc[batsman['Balls'] >=1 , 'Innings'] = batsman['Match Played']"
   ]
  },
  {
   "cell_type": "code",
   "execution_count": 18,
   "id": "unique-spencer",
   "metadata": {},
   "outputs": [
    {
     "data": {
      "text/html": [
       "<div>\n",
       "<style scoped>\n",
       "    .dataframe tbody tr th:only-of-type {\n",
       "        vertical-align: middle;\n",
       "    }\n",
       "\n",
       "    .dataframe tbody tr th {\n",
       "        vertical-align: top;\n",
       "    }\n",
       "\n",
       "    .dataframe thead th {\n",
       "        text-align: right;\n",
       "    }\n",
       "</style>\n",
       "<table border=\"1\" class=\"dataframe\">\n",
       "  <thead>\n",
       "    <tr style=\"text-align: right;\">\n",
       "      <th></th>\n",
       "      <th></th>\n",
       "      <th>Match Played</th>\n",
       "      <th>Batsman Runs</th>\n",
       "      <th>Balls</th>\n",
       "      <th>Fours</th>\n",
       "      <th>Sixes</th>\n",
       "      <th>50s</th>\n",
       "      <th>100s</th>\n",
       "      <th>Times Out</th>\n",
       "      <th>Strike Rate</th>\n",
       "      <th>Average</th>\n",
       "      <th>Innings</th>\n",
       "    </tr>\n",
       "    <tr>\n",
       "      <th>Players</th>\n",
       "      <th>Team</th>\n",
       "      <th></th>\n",
       "      <th></th>\n",
       "      <th></th>\n",
       "      <th></th>\n",
       "      <th></th>\n",
       "      <th></th>\n",
       "      <th></th>\n",
       "      <th></th>\n",
       "      <th></th>\n",
       "      <th></th>\n",
       "      <th></th>\n",
       "    </tr>\n",
       "  </thead>\n",
       "  <tbody>\n",
       "    <tr>\n",
       "      <th>Shikhar Dhawan</th>\n",
       "      <th>Delhi Capitals</th>\n",
       "      <td>4</td>\n",
       "      <td>231</td>\n",
       "      <td>156</td>\n",
       "      <td>29</td>\n",
       "      <td>5</td>\n",
       "      <td>2</td>\n",
       "      <td>0</td>\n",
       "      <td>0.0</td>\n",
       "      <td>148.08</td>\n",
       "      <td>57.75</td>\n",
       "      <td>4</td>\n",
       "    </tr>\n",
       "  </tbody>\n",
       "</table>\n",
       "</div>"
      ],
      "text/plain": [
       "                               Match Played  Batsman Runs  Balls  Fours  \\\n",
       "Players        Team                                                       \n",
       "Shikhar Dhawan Delhi Capitals             4           231    156     29   \n",
       "\n",
       "                               Sixes  50s  100s  Times Out  Strike Rate  \\\n",
       "Players        Team                                                       \n",
       "Shikhar Dhawan Delhi Capitals      5    2     0        0.0       148.08   \n",
       "\n",
       "                               Average  Innings  \n",
       "Players        Team                              \n",
       "Shikhar Dhawan Delhi Capitals    57.75        4  "
      ]
     },
     "execution_count": 18,
     "metadata": {},
     "output_type": "execute_result"
    }
   ],
   "source": [
    "batsman.head(1)"
   ]
  },
  {
   "cell_type": "markdown",
   "id": "equipped-mechanism",
   "metadata": {},
   "source": [
    "## Most Runs"
   ]
  },
  {
   "cell_type": "code",
   "execution_count": 19,
   "id": "natural-ozone",
   "metadata": {},
   "outputs": [
    {
     "data": {
      "text/html": [
       "<div>\n",
       "<style scoped>\n",
       "    .dataframe tbody tr th:only-of-type {\n",
       "        vertical-align: middle;\n",
       "    }\n",
       "\n",
       "    .dataframe tbody tr th {\n",
       "        vertical-align: top;\n",
       "    }\n",
       "\n",
       "    .dataframe thead th {\n",
       "        text-align: right;\n",
       "    }\n",
       "</style>\n",
       "<table border=\"1\" class=\"dataframe\">\n",
       "  <thead>\n",
       "    <tr style=\"text-align: right;\">\n",
       "      <th></th>\n",
       "      <th></th>\n",
       "      <th>Match Played</th>\n",
       "      <th>Innings</th>\n",
       "      <th>Batsman Runs</th>\n",
       "      <th>Average</th>\n",
       "    </tr>\n",
       "    <tr>\n",
       "      <th>Players</th>\n",
       "      <th>Team</th>\n",
       "      <th></th>\n",
       "      <th></th>\n",
       "      <th></th>\n",
       "      <th></th>\n",
       "    </tr>\n",
       "  </thead>\n",
       "  <tbody>\n",
       "    <tr>\n",
       "      <th>Shikhar Dhawan</th>\n",
       "      <th>Delhi Capitals</th>\n",
       "      <td>4</td>\n",
       "      <td>4</td>\n",
       "      <td>231</td>\n",
       "      <td>57.75</td>\n",
       "    </tr>\n",
       "    <tr>\n",
       "      <th>Glenn Maxwell</th>\n",
       "      <th>Royal Challengers Banglore</th>\n",
       "      <td>3</td>\n",
       "      <td>3</td>\n",
       "      <td>176</td>\n",
       "      <td>58.67</td>\n",
       "    </tr>\n",
       "    <tr>\n",
       "      <th>KL Rahul</th>\n",
       "      <th>Punjab Kings</th>\n",
       "      <td>3</td>\n",
       "      <td>3</td>\n",
       "      <td>157</td>\n",
       "      <td>52.33</td>\n",
       "    </tr>\n",
       "    <tr>\n",
       "      <th>Nitish Rana</th>\n",
       "      <th>Kolkata Knight Riders</th>\n",
       "      <td>3</td>\n",
       "      <td>3</td>\n",
       "      <td>155</td>\n",
       "      <td>51.67</td>\n",
       "    </tr>\n",
       "    <tr>\n",
       "      <th>Rohit Sharma</th>\n",
       "      <th>Mumbai Indians</th>\n",
       "      <td>4</td>\n",
       "      <td>4</td>\n",
       "      <td>138</td>\n",
       "      <td>34.50</td>\n",
       "    </tr>\n",
       "    <tr>\n",
       "      <th>AB de Villiers</th>\n",
       "      <th>Royal Challengers Banglore</th>\n",
       "      <td>3</td>\n",
       "      <td>3</td>\n",
       "      <td>125</td>\n",
       "      <td>62.50</td>\n",
       "    </tr>\n",
       "    <tr>\n",
       "      <th>Sanju Samson</th>\n",
       "      <th>Rajasthan Royals</th>\n",
       "      <td>3</td>\n",
       "      <td>3</td>\n",
       "      <td>124</td>\n",
       "      <td>41.33</td>\n",
       "    </tr>\n",
       "    <tr>\n",
       "      <th>Suryakumar Yadav</th>\n",
       "      <th>Mumbai Indians</th>\n",
       "      <td>4</td>\n",
       "      <td>4</td>\n",
       "      <td>121</td>\n",
       "      <td>30.25</td>\n",
       "    </tr>\n",
       "    <tr>\n",
       "      <th>Prithvi Shaw</th>\n",
       "      <th>Delhi Capitals</th>\n",
       "      <td>4</td>\n",
       "      <td>4</td>\n",
       "      <td>113</td>\n",
       "      <td>28.25</td>\n",
       "    </tr>\n",
       "    <tr>\n",
       "      <th>Jonny Bairstow</th>\n",
       "      <th>Sunrisers Hyderabad</th>\n",
       "      <td>3</td>\n",
       "      <td>3</td>\n",
       "      <td>110</td>\n",
       "      <td>36.67</td>\n",
       "    </tr>\n",
       "    <tr>\n",
       "      <th>Moeen Ali</th>\n",
       "      <th>Chennai Super Kings</th>\n",
       "      <td>3</td>\n",
       "      <td>3</td>\n",
       "      <td>108</td>\n",
       "      <td>36.00</td>\n",
       "    </tr>\n",
       "    <tr>\n",
       "      <th>Manish Pandey</th>\n",
       "      <th>Sunrisers Hyderabad</th>\n",
       "      <td>3</td>\n",
       "      <td>3</td>\n",
       "      <td>101</td>\n",
       "      <td>50.50</td>\n",
       "    </tr>\n",
       "    <tr>\n",
       "      <th>Deepak Hooda</th>\n",
       "      <th>Punjab Kings</th>\n",
       "      <td>3</td>\n",
       "      <td>3</td>\n",
       "      <td>96</td>\n",
       "      <td>48.00</td>\n",
       "    </tr>\n",
       "    <tr>\n",
       "      <th>David Warner</th>\n",
       "      <th>Sunrisers Hyderabad</th>\n",
       "      <td>3</td>\n",
       "      <td>3</td>\n",
       "      <td>93</td>\n",
       "      <td>31.00</td>\n",
       "    </tr>\n",
       "    <tr>\n",
       "      <th>Rishabh Pant</th>\n",
       "      <th>Delhi Capitals</th>\n",
       "      <td>4</td>\n",
       "      <td>4</td>\n",
       "      <td>88</td>\n",
       "      <td>29.33</td>\n",
       "    </tr>\n",
       "  </tbody>\n",
       "</table>\n",
       "</div>"
      ],
      "text/plain": [
       "                                             Match Played  Innings  \\\n",
       "Players          Team                                                \n",
       "Shikhar Dhawan   Delhi Capitals                         4        4   \n",
       "Glenn Maxwell    Royal Challengers Banglore             3        3   \n",
       "KL Rahul         Punjab Kings                           3        3   \n",
       "Nitish Rana      Kolkata Knight Riders                  3        3   \n",
       "Rohit Sharma     Mumbai Indians                         4        4   \n",
       "AB de Villiers   Royal Challengers Banglore             3        3   \n",
       "Sanju Samson     Rajasthan Royals                       3        3   \n",
       "Suryakumar Yadav Mumbai Indians                         4        4   \n",
       "Prithvi Shaw     Delhi Capitals                         4        4   \n",
       "Jonny Bairstow   Sunrisers Hyderabad                    3        3   \n",
       "Moeen Ali        Chennai Super Kings                    3        3   \n",
       "Manish Pandey    Sunrisers Hyderabad                    3        3   \n",
       "Deepak Hooda     Punjab Kings                           3        3   \n",
       "David Warner     Sunrisers Hyderabad                    3        3   \n",
       "Rishabh Pant     Delhi Capitals                         4        4   \n",
       "\n",
       "                                             Batsman Runs  Average  \n",
       "Players          Team                                               \n",
       "Shikhar Dhawan   Delhi Capitals                       231    57.75  \n",
       "Glenn Maxwell    Royal Challengers Banglore           176    58.67  \n",
       "KL Rahul         Punjab Kings                         157    52.33  \n",
       "Nitish Rana      Kolkata Knight Riders                155    51.67  \n",
       "Rohit Sharma     Mumbai Indians                       138    34.50  \n",
       "AB de Villiers   Royal Challengers Banglore           125    62.50  \n",
       "Sanju Samson     Rajasthan Royals                     124    41.33  \n",
       "Suryakumar Yadav Mumbai Indians                       121    30.25  \n",
       "Prithvi Shaw     Delhi Capitals                       113    28.25  \n",
       "Jonny Bairstow   Sunrisers Hyderabad                  110    36.67  \n",
       "Moeen Ali        Chennai Super Kings                  108    36.00  \n",
       "Manish Pandey    Sunrisers Hyderabad                  101    50.50  \n",
       "Deepak Hooda     Punjab Kings                          96    48.00  \n",
       "David Warner     Sunrisers Hyderabad                   93    31.00  \n",
       "Rishabh Pant     Delhi Capitals                        88    29.33  "
      ]
     },
     "execution_count": 19,
     "metadata": {},
     "output_type": "execute_result"
    }
   ],
   "source": [
    "batsman[['Match Played','Innings','Batsman Runs','Average']].nlargest(15,'Batsman Runs').round(2)"
   ]
  },
  {
   "cell_type": "code",
   "execution_count": null,
   "id": "sunset-chair",
   "metadata": {},
   "outputs": [],
   "source": []
  }
 ],
 "metadata": {
  "kernelspec": {
   "display_name": "Python 3",
   "language": "python",
   "name": "python3"
  },
  "language_info": {
   "codemirror_mode": {
    "name": "ipython",
    "version": 3
   },
   "file_extension": ".py",
   "mimetype": "text/x-python",
   "name": "python",
   "nbconvert_exporter": "python",
   "pygments_lexer": "ipython3",
   "version": "3.9.1"
  }
 },
 "nbformat": 4,
 "nbformat_minor": 5
}
