{
 "cells": [
  {
   "cell_type": "code",
   "execution_count": 1,
   "id": "virgin-congo",
   "metadata": {},
   "outputs": [],
   "source": [
    "import pandas as pd\n",
    "import os"
   ]
  },
  {
   "cell_type": "code",
   "execution_count": 2,
   "id": "noticed-sunday",
   "metadata": {},
   "outputs": [],
   "source": [
    "files= [file for file in os.listdir('./CSV Files')]\n",
    "\n",
    "all_matches_data=pd.DataFrame()\n",
    "\n",
    "for file in files:\n",
    "    df=pd.read_csv('./CSV Files/'+file)\n",
    "    all_matches_data=pd.concat([all_matches_data,df])"
   ]
  },
  {
   "cell_type": "code",
   "execution_count": 3,
   "id": "liberal-forest",
   "metadata": {},
   "outputs": [],
   "source": [
    "all_matches_data.to_csv('Combo_Match1_to_Match4.csv',index=False)"
   ]
  },
  {
   "cell_type": "code",
   "execution_count": 4,
   "id": "essential-serbia",
   "metadata": {},
   "outputs": [],
   "source": [
    "df= pd.read_csv('Combo CSV Files\\Combo_Match1_to_Match4.csv',index_col='Players')"
   ]
  },
  {
   "cell_type": "code",
   "execution_count": 5,
   "id": "divided-cambodia",
   "metadata": {},
   "outputs": [
    {
     "data": {
      "text/plain": [
       "(88, 16)"
      ]
     },
     "execution_count": 5,
     "metadata": {},
     "output_type": "execute_result"
    }
   ],
   "source": [
    "df.shape"
   ]
  },
  {
   "cell_type": "code",
   "execution_count": 6,
   "id": "seventh-honolulu",
   "metadata": {},
   "outputs": [
    {
     "data": {
      "text/html": [
       "<div>\n",
       "<style scoped>\n",
       "    .dataframe tbody tr th:only-of-type {\n",
       "        vertical-align: middle;\n",
       "    }\n",
       "\n",
       "    .dataframe tbody tr th {\n",
       "        vertical-align: top;\n",
       "    }\n",
       "\n",
       "    .dataframe thead th {\n",
       "        text-align: right;\n",
       "    }\n",
       "</style>\n",
       "<table border=\"1\" class=\"dataframe\">\n",
       "  <thead>\n",
       "    <tr style=\"text-align: right;\">\n",
       "      <th></th>\n",
       "      <th>Team</th>\n",
       "      <th>Match Played</th>\n",
       "      <th>Batsman Runs</th>\n",
       "      <th>Balls</th>\n",
       "      <th>Fours</th>\n",
       "      <th>Sixes</th>\n",
       "      <th>Strike Rate</th>\n",
       "      <th>Over</th>\n",
       "      <th>Maiden</th>\n",
       "      <th>Bowler Runs</th>\n",
       "      <th>Wickets</th>\n",
       "      <th>Economy Rate</th>\n",
       "      <th>Catches</th>\n",
       "      <th>Run Out</th>\n",
       "      <th>50s</th>\n",
       "      <th>100s</th>\n",
       "    </tr>\n",
       "    <tr>\n",
       "      <th>Players</th>\n",
       "      <th></th>\n",
       "      <th></th>\n",
       "      <th></th>\n",
       "      <th></th>\n",
       "      <th></th>\n",
       "      <th></th>\n",
       "      <th></th>\n",
       "      <th></th>\n",
       "      <th></th>\n",
       "      <th></th>\n",
       "      <th></th>\n",
       "      <th></th>\n",
       "      <th></th>\n",
       "      <th></th>\n",
       "      <th></th>\n",
       "      <th></th>\n",
       "    </tr>\n",
       "  </thead>\n",
       "  <tbody>\n",
       "    <tr>\n",
       "      <th>Rohit Sharma</th>\n",
       "      <td>Mumbai Indians</td>\n",
       "      <td>1</td>\n",
       "      <td>19</td>\n",
       "      <td>15</td>\n",
       "      <td>1</td>\n",
       "      <td>1</td>\n",
       "      <td>126.67</td>\n",
       "      <td>0.0</td>\n",
       "      <td>0</td>\n",
       "      <td>0</td>\n",
       "      <td>0</td>\n",
       "      <td>0.0</td>\n",
       "      <td>0</td>\n",
       "      <td>0</td>\n",
       "      <td>0</td>\n",
       "      <td>0</td>\n",
       "    </tr>\n",
       "  </tbody>\n",
       "</table>\n",
       "</div>"
      ],
      "text/plain": [
       "                        Team  Match Played  Batsman Runs  Balls  Fours  Sixes  \\\n",
       "Players                                                                         \n",
       "Rohit Sharma  Mumbai Indians             1            19     15      1      1   \n",
       "\n",
       "              Strike Rate  Over  Maiden  Bowler Runs  Wickets  Economy Rate  \\\n",
       "Players                                                                       \n",
       "Rohit Sharma       126.67   0.0       0            0        0           0.0   \n",
       "\n",
       "              Catches  Run Out  50s  100s  \n",
       "Players                                    \n",
       "Rohit Sharma        0        0    0     0  "
      ]
     },
     "execution_count": 6,
     "metadata": {},
     "output_type": "execute_result"
    }
   ],
   "source": [
    "df.head(1)"
   ]
  },
  {
   "cell_type": "code",
   "execution_count": 7,
   "id": "polish-medicaid",
   "metadata": {},
   "outputs": [
    {
     "data": {
      "text/plain": [
       "67"
      ]
     },
     "execution_count": 7,
     "metadata": {},
     "output_type": "execute_result"
    }
   ],
   "source": [
    "df['Sixes'].sum()"
   ]
  },
  {
   "cell_type": "code",
   "execution_count": 8,
   "id": "nominated-rider",
   "metadata": {},
   "outputs": [
    {
     "data": {
      "text/plain": [
       "134"
      ]
     },
     "execution_count": 8,
     "metadata": {},
     "output_type": "execute_result"
    }
   ],
   "source": [
    "df['Fours'].sum()"
   ]
  },
  {
   "cell_type": "code",
   "execution_count": 9,
   "id": "derived-living",
   "metadata": {},
   "outputs": [
    {
     "data": {
      "text/plain": [
       "Players\n",
       "Sanju Samson      119\n",
       "KL Rahul           91\n",
       "Shikhar Dhawan     85\n",
       "Nitish Rana        80\n",
       "Prithvi Shaw       72\n",
       "Name: Batsman Runs, dtype: int64"
      ]
     },
     "execution_count": 9,
     "metadata": {},
     "output_type": "execute_result"
    }
   ],
   "source": [
    "df['Batsman Runs'].nlargest(5)"
   ]
  },
  {
   "cell_type": "code",
   "execution_count": 10,
   "id": "prospective-bulletin",
   "metadata": {},
   "outputs": [
    {
     "data": {
      "text/plain": [
       "Players\n",
       "Harshal Patel      5\n",
       "Arshdeep Singh     3\n",
       "Chetan Sakariya    3\n",
       "Marco Jansen       2\n",
       "Jasprit Bumrah     2\n",
       "Name: Wickets, dtype: int64"
      ]
     },
     "execution_count": 10,
     "metadata": {},
     "output_type": "execute_result"
    }
   ],
   "source": [
    "df['Wickets'].nlargest(5)"
   ]
  },
  {
   "cell_type": "code",
   "execution_count": 11,
   "id": "affiliated-peoples",
   "metadata": {},
   "outputs": [
    {
     "data": {
      "text/plain": [
       "Players\n",
       "Sanju Samson      12\n",
       "Shikhar Dhawan    10\n",
       "Prithvi Shaw       9\n",
       "Nitish Rana        9\n",
       "KL Rahul           7\n",
       "Name: Fours, dtype: int64"
      ]
     },
     "execution_count": 11,
     "metadata": {},
     "output_type": "execute_result"
    }
   ],
   "source": [
    "df['Fours'].nlargest(5)"
   ]
  },
  {
   "cell_type": "code",
   "execution_count": 12,
   "id": "careful-router",
   "metadata": {},
   "outputs": [
    {
     "data": {
      "text/plain": [
       "Players\n",
       "Sanju Samson    7\n",
       "Deepak Hooda    6\n",
       "KL Rahul        5\n",
       "Suresh Raina    4\n",
       "Nitish Rana     4\n",
       "Name: Sixes, dtype: int64"
      ]
     },
     "execution_count": 12,
     "metadata": {},
     "output_type": "execute_result"
    }
   ],
   "source": [
    "df['Sixes'].nlargest(5)"
   ]
  },
  {
   "cell_type": "code",
   "execution_count": 13,
   "id": "conditional-preparation",
   "metadata": {},
   "outputs": [],
   "source": [
    "all_batsman= df[['Team','Match Played','Batsman Runs','Balls','Fours','Sixes','Strike Rate','50s','100s']]"
   ]
  },
  {
   "cell_type": "code",
   "execution_count": 14,
   "id": "subtle-establishment",
   "metadata": {},
   "outputs": [],
   "source": [
    "Batsman=all_batsman[all_batsman['Balls']>=1]"
   ]
  },
  {
   "cell_type": "code",
   "execution_count": 15,
   "id": "undefined-algorithm",
   "metadata": {},
   "outputs": [
    {
     "data": {
      "text/html": [
       "<div>\n",
       "<style scoped>\n",
       "    .dataframe tbody tr th:only-of-type {\n",
       "        vertical-align: middle;\n",
       "    }\n",
       "\n",
       "    .dataframe tbody tr th {\n",
       "        vertical-align: top;\n",
       "    }\n",
       "\n",
       "    .dataframe thead th {\n",
       "        text-align: right;\n",
       "    }\n",
       "</style>\n",
       "<table border=\"1\" class=\"dataframe\">\n",
       "  <thead>\n",
       "    <tr style=\"text-align: right;\">\n",
       "      <th></th>\n",
       "      <th>Team</th>\n",
       "      <th>Match Played</th>\n",
       "      <th>Batsman Runs</th>\n",
       "      <th>Balls</th>\n",
       "      <th>Fours</th>\n",
       "      <th>Sixes</th>\n",
       "      <th>Strike Rate</th>\n",
       "      <th>50s</th>\n",
       "      <th>100s</th>\n",
       "    </tr>\n",
       "    <tr>\n",
       "      <th>Players</th>\n",
       "      <th></th>\n",
       "      <th></th>\n",
       "      <th></th>\n",
       "      <th></th>\n",
       "      <th></th>\n",
       "      <th></th>\n",
       "      <th></th>\n",
       "      <th></th>\n",
       "      <th></th>\n",
       "    </tr>\n",
       "  </thead>\n",
       "  <tbody>\n",
       "    <tr>\n",
       "      <th>Deepak Hooda</th>\n",
       "      <td>Punjab Kings</td>\n",
       "      <td>1</td>\n",
       "      <td>64</td>\n",
       "      <td>28</td>\n",
       "      <td>4</td>\n",
       "      <td>6</td>\n",
       "      <td>228.57</td>\n",
       "      <td>1</td>\n",
       "      <td>0</td>\n",
       "    </tr>\n",
       "    <tr>\n",
       "      <th>Prithvi Shaw</th>\n",
       "      <td>Delhi Capitals</td>\n",
       "      <td>1</td>\n",
       "      <td>72</td>\n",
       "      <td>38</td>\n",
       "      <td>9</td>\n",
       "      <td>3</td>\n",
       "      <td>189.47</td>\n",
       "      <td>1</td>\n",
       "      <td>0</td>\n",
       "    </tr>\n",
       "    <tr>\n",
       "      <th>Sanju Samson</th>\n",
       "      <td>Rajasthan Royals</td>\n",
       "      <td>1</td>\n",
       "      <td>119</td>\n",
       "      <td>63</td>\n",
       "      <td>12</td>\n",
       "      <td>7</td>\n",
       "      <td>188.89</td>\n",
       "      <td>0</td>\n",
       "      <td>1</td>\n",
       "    </tr>\n",
       "    <tr>\n",
       "      <th>Rahul Tripathi</th>\n",
       "      <td>Kolkata Knight Riders</td>\n",
       "      <td>1</td>\n",
       "      <td>53</td>\n",
       "      <td>29</td>\n",
       "      <td>5</td>\n",
       "      <td>2</td>\n",
       "      <td>182.76</td>\n",
       "      <td>1</td>\n",
       "      <td>0</td>\n",
       "    </tr>\n",
       "    <tr>\n",
       "      <th>KL Rahul</th>\n",
       "      <td>Punjab Kings</td>\n",
       "      <td>1</td>\n",
       "      <td>91</td>\n",
       "      <td>50</td>\n",
       "      <td>7</td>\n",
       "      <td>5</td>\n",
       "      <td>182.00</td>\n",
       "      <td>1</td>\n",
       "      <td>0</td>\n",
       "    </tr>\n",
       "  </tbody>\n",
       "</table>\n",
       "</div>"
      ],
      "text/plain": [
       "                                 Team  Match Played  Batsman Runs  Balls  \\\n",
       "Players                                                                    \n",
       "Deepak Hooda             Punjab Kings             1            64     28   \n",
       "Prithvi Shaw           Delhi Capitals             1            72     38   \n",
       "Sanju Samson         Rajasthan Royals             1           119     63   \n",
       "Rahul Tripathi  Kolkata Knight Riders             1            53     29   \n",
       "KL Rahul                 Punjab Kings             1            91     50   \n",
       "\n",
       "                Fours  Sixes  Strike Rate  50s  100s  \n",
       "Players                                               \n",
       "Deepak Hooda        4      6       228.57    1     0  \n",
       "Prithvi Shaw        9      3       189.47    1     0  \n",
       "Sanju Samson       12      7       188.89    0     1  \n",
       "Rahul Tripathi      5      2       182.76    1     0  \n",
       "KL Rahul            7      5       182.00    1     0  "
      ]
     },
     "execution_count": 15,
     "metadata": {},
     "output_type": "execute_result"
    }
   ],
   "source": [
    "Batsman[(Batsman['Batsman Runs'] >=50) ].nlargest(5,'Strike Rate')"
   ]
  },
  {
   "cell_type": "code",
   "execution_count": 16,
   "id": "fitting-rhythm",
   "metadata": {},
   "outputs": [
    {
     "data": {
      "text/html": [
       "<div>\n",
       "<style scoped>\n",
       "    .dataframe tbody tr th:only-of-type {\n",
       "        vertical-align: middle;\n",
       "    }\n",
       "\n",
       "    .dataframe tbody tr th {\n",
       "        vertical-align: top;\n",
       "    }\n",
       "\n",
       "    .dataframe thead th {\n",
       "        text-align: right;\n",
       "    }\n",
       "</style>\n",
       "<table border=\"1\" class=\"dataframe\">\n",
       "  <thead>\n",
       "    <tr style=\"text-align: right;\">\n",
       "      <th></th>\n",
       "      <th>Team</th>\n",
       "      <th>Match Played</th>\n",
       "      <th>Batsman Runs</th>\n",
       "      <th>Balls</th>\n",
       "      <th>Fours</th>\n",
       "      <th>Sixes</th>\n",
       "      <th>Strike Rate</th>\n",
       "      <th>50s</th>\n",
       "      <th>100s</th>\n",
       "    </tr>\n",
       "    <tr>\n",
       "      <th>Players</th>\n",
       "      <th></th>\n",
       "      <th></th>\n",
       "      <th></th>\n",
       "      <th></th>\n",
       "      <th></th>\n",
       "      <th></th>\n",
       "      <th></th>\n",
       "      <th></th>\n",
       "      <th></th>\n",
       "    </tr>\n",
       "  </thead>\n",
       "  <tbody>\n",
       "    <tr>\n",
       "      <th>Deepak Hooda</th>\n",
       "      <td>Punjab Kings</td>\n",
       "      <td>1</td>\n",
       "      <td>64</td>\n",
       "      <td>28</td>\n",
       "      <td>4</td>\n",
       "      <td>6</td>\n",
       "      <td>228.57</td>\n",
       "      <td>1</td>\n",
       "      <td>0</td>\n",
       "    </tr>\n",
       "    <tr>\n",
       "      <th>Rahul Tripathi</th>\n",
       "      <td>Kolkata Knight Riders</td>\n",
       "      <td>1</td>\n",
       "      <td>53</td>\n",
       "      <td>29</td>\n",
       "      <td>5</td>\n",
       "      <td>2</td>\n",
       "      <td>182.76</td>\n",
       "      <td>1</td>\n",
       "      <td>0</td>\n",
       "    </tr>\n",
       "    <tr>\n",
       "      <th>AB de Villiers</th>\n",
       "      <td>Royal Challengers Banglore</td>\n",
       "      <td>1</td>\n",
       "      <td>48</td>\n",
       "      <td>27</td>\n",
       "      <td>4</td>\n",
       "      <td>2</td>\n",
       "      <td>177.78</td>\n",
       "      <td>0</td>\n",
       "      <td>0</td>\n",
       "    </tr>\n",
       "    <tr>\n",
       "      <th>Chris Gayle</th>\n",
       "      <td>Punjab Kings</td>\n",
       "      <td>1</td>\n",
       "      <td>40</td>\n",
       "      <td>28</td>\n",
       "      <td>4</td>\n",
       "      <td>2</td>\n",
       "      <td>142.86</td>\n",
       "      <td>0</td>\n",
       "      <td>0</td>\n",
       "    </tr>\n",
       "    <tr>\n",
       "      <th>Chris Lynn</th>\n",
       "      <td>Mumbai Indians</td>\n",
       "      <td>1</td>\n",
       "      <td>49</td>\n",
       "      <td>35</td>\n",
       "      <td>4</td>\n",
       "      <td>3</td>\n",
       "      <td>140.00</td>\n",
       "      <td>0</td>\n",
       "      <td>0</td>\n",
       "    </tr>\n",
       "    <tr>\n",
       "      <th>Glenn Maxwell</th>\n",
       "      <td>Royal Challengers Banglore</td>\n",
       "      <td>1</td>\n",
       "      <td>39</td>\n",
       "      <td>28</td>\n",
       "      <td>3</td>\n",
       "      <td>2</td>\n",
       "      <td>139.29</td>\n",
       "      <td>0</td>\n",
       "      <td>0</td>\n",
       "    </tr>\n",
       "    <tr>\n",
       "      <th>Virat Kohli</th>\n",
       "      <td>Royal Challengers Banglore</td>\n",
       "      <td>1</td>\n",
       "      <td>33</td>\n",
       "      <td>29</td>\n",
       "      <td>4</td>\n",
       "      <td>0</td>\n",
       "      <td>113.79</td>\n",
       "      <td>0</td>\n",
       "      <td>0</td>\n",
       "    </tr>\n",
       "  </tbody>\n",
       "</table>\n",
       "</div>"
      ],
      "text/plain": [
       "                                      Team  Match Played  Batsman Runs  Balls  \\\n",
       "Players                                                                         \n",
       "Deepak Hooda                  Punjab Kings             1            64     28   \n",
       "Rahul Tripathi       Kolkata Knight Riders             1            53     29   \n",
       "AB de Villiers  Royal Challengers Banglore             1            48     27   \n",
       "Chris Gayle                   Punjab Kings             1            40     28   \n",
       "Chris Lynn                  Mumbai Indians             1            49     35   \n",
       "Glenn Maxwell   Royal Challengers Banglore             1            39     28   \n",
       "Virat Kohli     Royal Challengers Banglore             1            33     29   \n",
       "\n",
       "                Fours  Sixes  Strike Rate  50s  100s  \n",
       "Players                                               \n",
       "Deepak Hooda        4      6       228.57    1     0  \n",
       "Rahul Tripathi      5      2       182.76    1     0  \n",
       "AB de Villiers      4      2       177.78    0     0  \n",
       "Chris Gayle         4      2       142.86    0     0  \n",
       "Chris Lynn          4      3       140.00    0     0  \n",
       "Glenn Maxwell       3      2       139.29    0     0  \n",
       "Virat Kohli         4      0       113.79    0     0  "
      ]
     },
     "execution_count": 16,
     "metadata": {},
     "output_type": "execute_result"
    }
   ],
   "source": [
    "Batsman[Batsman['Balls'].between(25,35)].nlargest(10,'Strike Rate')"
   ]
  },
  {
   "cell_type": "code",
   "execution_count": 17,
   "id": "mature-genius",
   "metadata": {},
   "outputs": [
    {
     "data": {
      "text/html": [
       "<div>\n",
       "<style scoped>\n",
       "    .dataframe tbody tr th:only-of-type {\n",
       "        vertical-align: middle;\n",
       "    }\n",
       "\n",
       "    .dataframe tbody tr th {\n",
       "        vertical-align: top;\n",
       "    }\n",
       "\n",
       "    .dataframe thead th {\n",
       "        text-align: right;\n",
       "    }\n",
       "</style>\n",
       "<table border=\"1\" class=\"dataframe\">\n",
       "  <thead>\n",
       "    <tr style=\"text-align: right;\">\n",
       "      <th></th>\n",
       "      <th>Team</th>\n",
       "      <th>Match Played</th>\n",
       "      <th>Batsman Runs</th>\n",
       "      <th>Balls</th>\n",
       "      <th>Fours</th>\n",
       "      <th>Sixes</th>\n",
       "      <th>Strike Rate</th>\n",
       "      <th>50s</th>\n",
       "      <th>100s</th>\n",
       "    </tr>\n",
       "    <tr>\n",
       "      <th>Players</th>\n",
       "      <th></th>\n",
       "      <th></th>\n",
       "      <th></th>\n",
       "      <th></th>\n",
       "      <th></th>\n",
       "      <th></th>\n",
       "      <th></th>\n",
       "      <th></th>\n",
       "      <th></th>\n",
       "    </tr>\n",
       "  </thead>\n",
       "  <tbody>\n",
       "    <tr>\n",
       "      <th>Sanju Samson</th>\n",
       "      <td>Rajasthan Royals</td>\n",
       "      <td>1</td>\n",
       "      <td>119</td>\n",
       "      <td>63</td>\n",
       "      <td>12</td>\n",
       "      <td>7</td>\n",
       "      <td>188.89</td>\n",
       "      <td>0</td>\n",
       "      <td>1</td>\n",
       "    </tr>\n",
       "    <tr>\n",
       "      <th>KL Rahul</th>\n",
       "      <td>Punjab Kings</td>\n",
       "      <td>1</td>\n",
       "      <td>91</td>\n",
       "      <td>50</td>\n",
       "      <td>7</td>\n",
       "      <td>5</td>\n",
       "      <td>182.00</td>\n",
       "      <td>1</td>\n",
       "      <td>0</td>\n",
       "    </tr>\n",
       "    <tr>\n",
       "      <th>Shikhar Dhawan</th>\n",
       "      <td>Delhi Capitals</td>\n",
       "      <td>1</td>\n",
       "      <td>85</td>\n",
       "      <td>54</td>\n",
       "      <td>10</td>\n",
       "      <td>2</td>\n",
       "      <td>157.41</td>\n",
       "      <td>1</td>\n",
       "      <td>0</td>\n",
       "    </tr>\n",
       "    <tr>\n",
       "      <th>Prithvi Shaw</th>\n",
       "      <td>Delhi Capitals</td>\n",
       "      <td>1</td>\n",
       "      <td>72</td>\n",
       "      <td>38</td>\n",
       "      <td>9</td>\n",
       "      <td>3</td>\n",
       "      <td>189.47</td>\n",
       "      <td>1</td>\n",
       "      <td>0</td>\n",
       "    </tr>\n",
       "    <tr>\n",
       "      <th>Rahul Tripathi</th>\n",
       "      <td>Kolkata Knight Riders</td>\n",
       "      <td>1</td>\n",
       "      <td>53</td>\n",
       "      <td>29</td>\n",
       "      <td>5</td>\n",
       "      <td>2</td>\n",
       "      <td>182.76</td>\n",
       "      <td>1</td>\n",
       "      <td>0</td>\n",
       "    </tr>\n",
       "    <tr>\n",
       "      <th>Jos Butler</th>\n",
       "      <td>Rajasthan Royals</td>\n",
       "      <td>1</td>\n",
       "      <td>25</td>\n",
       "      <td>13</td>\n",
       "      <td>5</td>\n",
       "      <td>0</td>\n",
       "      <td>192.31</td>\n",
       "      <td>0</td>\n",
       "      <td>0</td>\n",
       "    </tr>\n",
       "  </tbody>\n",
       "</table>\n",
       "</div>"
      ],
      "text/plain": [
       "                                 Team  Match Played  Batsman Runs  Balls  \\\n",
       "Players                                                                    \n",
       "Sanju Samson         Rajasthan Royals             1           119     63   \n",
       "KL Rahul                 Punjab Kings             1            91     50   \n",
       "Shikhar Dhawan         Delhi Capitals             1            85     54   \n",
       "Prithvi Shaw           Delhi Capitals             1            72     38   \n",
       "Rahul Tripathi  Kolkata Knight Riders             1            53     29   \n",
       "Jos Butler           Rajasthan Royals             1            25     13   \n",
       "\n",
       "                Fours  Sixes  Strike Rate  50s  100s  \n",
       "Players                                               \n",
       "Sanju Samson       12      7       188.89    0     1  \n",
       "KL Rahul            7      5       182.00    1     0  \n",
       "Shikhar Dhawan     10      2       157.41    1     0  \n",
       "Prithvi Shaw        9      3       189.47    1     0  \n",
       "Rahul Tripathi      5      2       182.76    1     0  \n",
       "Jos Butler          5      0       192.31    0     0  "
      ]
     },
     "execution_count": 17,
     "metadata": {},
     "output_type": "execute_result"
    }
   ],
   "source": [
    "Batsman[(Batsman['Strike Rate'].between(150,200)) &(Batsman['Fours'] >=5)].nlargest(10,'Batsman Runs')"
   ]
  },
  {
   "cell_type": "code",
   "execution_count": 18,
   "id": "twelve-boulder",
   "metadata": {},
   "outputs": [
    {
     "data": {
      "text/html": [
       "<div>\n",
       "<style scoped>\n",
       "    .dataframe tbody tr th:only-of-type {\n",
       "        vertical-align: middle;\n",
       "    }\n",
       "\n",
       "    .dataframe tbody tr th {\n",
       "        vertical-align: top;\n",
       "    }\n",
       "\n",
       "    .dataframe thead th {\n",
       "        text-align: right;\n",
       "    }\n",
       "</style>\n",
       "<table border=\"1\" class=\"dataframe\">\n",
       "  <thead>\n",
       "    <tr style=\"text-align: right;\">\n",
       "      <th></th>\n",
       "      <th>Team</th>\n",
       "      <th>Match Played</th>\n",
       "      <th>Batsman Runs</th>\n",
       "      <th>Balls</th>\n",
       "      <th>Fours</th>\n",
       "      <th>Sixes</th>\n",
       "      <th>Strike Rate</th>\n",
       "      <th>50s</th>\n",
       "      <th>100s</th>\n",
       "    </tr>\n",
       "    <tr>\n",
       "      <th>Players</th>\n",
       "      <th></th>\n",
       "      <th></th>\n",
       "      <th></th>\n",
       "      <th></th>\n",
       "      <th></th>\n",
       "      <th></th>\n",
       "      <th></th>\n",
       "      <th></th>\n",
       "      <th></th>\n",
       "    </tr>\n",
       "  </thead>\n",
       "  <tbody>\n",
       "    <tr>\n",
       "      <th>Deepak Hooda</th>\n",
       "      <td>Punjab Kings</td>\n",
       "      <td>1</td>\n",
       "      <td>64</td>\n",
       "      <td>28</td>\n",
       "      <td>4</td>\n",
       "      <td>6</td>\n",
       "      <td>228.57</td>\n",
       "      <td>1</td>\n",
       "      <td>0</td>\n",
       "    </tr>\n",
       "    <tr>\n",
       "      <th>Rahul Tripathi</th>\n",
       "      <td>Kolkata Knight Riders</td>\n",
       "      <td>1</td>\n",
       "      <td>53</td>\n",
       "      <td>29</td>\n",
       "      <td>5</td>\n",
       "      <td>2</td>\n",
       "      <td>182.76</td>\n",
       "      <td>1</td>\n",
       "      <td>0</td>\n",
       "    </tr>\n",
       "    <tr>\n",
       "      <th>AB de Villiers</th>\n",
       "      <td>Royal Challengers Banglore</td>\n",
       "      <td>1</td>\n",
       "      <td>48</td>\n",
       "      <td>27</td>\n",
       "      <td>4</td>\n",
       "      <td>2</td>\n",
       "      <td>177.78</td>\n",
       "      <td>0</td>\n",
       "      <td>0</td>\n",
       "    </tr>\n",
       "    <tr>\n",
       "      <th>Chris Gayle</th>\n",
       "      <td>Punjab Kings</td>\n",
       "      <td>1</td>\n",
       "      <td>40</td>\n",
       "      <td>28</td>\n",
       "      <td>4</td>\n",
       "      <td>2</td>\n",
       "      <td>142.86</td>\n",
       "      <td>0</td>\n",
       "      <td>0</td>\n",
       "    </tr>\n",
       "    <tr>\n",
       "      <th>Moeen Ali</th>\n",
       "      <td>Chennai Super Kings</td>\n",
       "      <td>1</td>\n",
       "      <td>36</td>\n",
       "      <td>24</td>\n",
       "      <td>4</td>\n",
       "      <td>2</td>\n",
       "      <td>150.00</td>\n",
       "      <td>0</td>\n",
       "      <td>0</td>\n",
       "    </tr>\n",
       "  </tbody>\n",
       "</table>\n",
       "</div>"
      ],
      "text/plain": [
       "                                      Team  Match Played  Batsman Runs  Balls  \\\n",
       "Players                                                                         \n",
       "Deepak Hooda                  Punjab Kings             1            64     28   \n",
       "Rahul Tripathi       Kolkata Knight Riders             1            53     29   \n",
       "AB de Villiers  Royal Challengers Banglore             1            48     27   \n",
       "Chris Gayle                   Punjab Kings             1            40     28   \n",
       "Moeen Ali              Chennai Super Kings             1            36     24   \n",
       "\n",
       "                Fours  Sixes  Strike Rate  50s  100s  \n",
       "Players                                               \n",
       "Deepak Hooda        4      6       228.57    1     0  \n",
       "Rahul Tripathi      5      2       182.76    1     0  \n",
       "AB de Villiers      4      2       177.78    0     0  \n",
       "Chris Gayle         4      2       142.86    0     0  \n",
       "Moeen Ali           4      2       150.00    0     0  "
      ]
     },
     "execution_count": 18,
     "metadata": {},
     "output_type": "execute_result"
    }
   ],
   "source": [
    "Batsman[(Batsman['Fours'] >=4) &(Batsman['Sixes'] >=2) &(Batsman['Balls'].between(20,30))].nlargest(5,'Batsman Runs')"
   ]
  },
  {
   "cell_type": "code",
   "execution_count": 19,
   "id": "occupied-banner",
   "metadata": {},
   "outputs": [
    {
     "name": "stdout",
     "output_type": "stream",
     "text": [
      "['Mumbai Indians' 'Royal Challengers Banglore' 'Chennai Super Kings'\n",
      " 'Delhi Capitals' 'Kolkata Knight Riders' 'Sunrisers Hyderabad'\n",
      " 'Punjab Kings' 'Rajasthan Royals']\n"
     ]
    }
   ],
   "source": [
    "print(df.Team.unique())"
   ]
  },
  {
   "cell_type": "code",
   "execution_count": 20,
   "id": "passing-string",
   "metadata": {},
   "outputs": [
    {
     "data": {
      "text/html": [
       "<div>\n",
       "<style scoped>\n",
       "    .dataframe tbody tr th:only-of-type {\n",
       "        vertical-align: middle;\n",
       "    }\n",
       "\n",
       "    .dataframe tbody tr th {\n",
       "        vertical-align: top;\n",
       "    }\n",
       "\n",
       "    .dataframe thead th {\n",
       "        text-align: right;\n",
       "    }\n",
       "</style>\n",
       "<table border=\"1\" class=\"dataframe\">\n",
       "  <thead>\n",
       "    <tr style=\"text-align: right;\">\n",
       "      <th></th>\n",
       "      <th>Team</th>\n",
       "      <th>Match Played</th>\n",
       "      <th>Batsman Runs</th>\n",
       "      <th>Balls</th>\n",
       "      <th>Fours</th>\n",
       "      <th>Sixes</th>\n",
       "      <th>Strike Rate</th>\n",
       "      <th>50s</th>\n",
       "      <th>100s</th>\n",
       "    </tr>\n",
       "    <tr>\n",
       "      <th>Players</th>\n",
       "      <th></th>\n",
       "      <th></th>\n",
       "      <th></th>\n",
       "      <th></th>\n",
       "      <th></th>\n",
       "      <th></th>\n",
       "      <th></th>\n",
       "      <th></th>\n",
       "      <th></th>\n",
       "    </tr>\n",
       "  </thead>\n",
       "  <tbody>\n",
       "    <tr>\n",
       "      <th>Manish Pandey</th>\n",
       "      <td>Sunrisers Hyderabad</td>\n",
       "      <td>1</td>\n",
       "      <td>61</td>\n",
       "      <td>44</td>\n",
       "      <td>2</td>\n",
       "      <td>3</td>\n",
       "      <td>138.64</td>\n",
       "      <td>1</td>\n",
       "      <td>0</td>\n",
       "    </tr>\n",
       "    <tr>\n",
       "      <th>Jonny Bairstow</th>\n",
       "      <td>Sunrisers Hyderabad</td>\n",
       "      <td>1</td>\n",
       "      <td>55</td>\n",
       "      <td>40</td>\n",
       "      <td>5</td>\n",
       "      <td>3</td>\n",
       "      <td>137.50</td>\n",
       "      <td>1</td>\n",
       "      <td>0</td>\n",
       "    </tr>\n",
       "    <tr>\n",
       "      <th>Abdul Samad</th>\n",
       "      <td>Sunrisers Hyderabad</td>\n",
       "      <td>1</td>\n",
       "      <td>19</td>\n",
       "      <td>8</td>\n",
       "      <td>0</td>\n",
       "      <td>2</td>\n",
       "      <td>237.50</td>\n",
       "      <td>0</td>\n",
       "      <td>0</td>\n",
       "    </tr>\n",
       "  </tbody>\n",
       "</table>\n",
       "</div>"
      ],
      "text/plain": [
       "                               Team  Match Played  Batsman Runs  Balls  Fours  \\\n",
       "Players                                                                         \n",
       "Manish Pandey   Sunrisers Hyderabad             1            61     44      2   \n",
       "Jonny Bairstow  Sunrisers Hyderabad             1            55     40      5   \n",
       "Abdul Samad     Sunrisers Hyderabad             1            19      8      0   \n",
       "\n",
       "                Sixes  Strike Rate  50s  100s  \n",
       "Players                                        \n",
       "Manish Pandey       3       138.64    1     0  \n",
       "Jonny Bairstow      3       137.50    1     0  \n",
       "Abdul Samad         2       237.50    0     0  "
      ]
     },
     "execution_count": 20,
     "metadata": {},
     "output_type": "execute_result"
    }
   ],
   "source": [
    "Batsman[Batsman['Team'] == 'Sunrisers Hyderabad'].nlargest(3,'Sixes')"
   ]
  },
  {
   "cell_type": "code",
   "execution_count": 21,
   "id": "frank-contact",
   "metadata": {},
   "outputs": [],
   "source": [
    "x=list(Batsman.groupby('Team'))"
   ]
  },
  {
   "cell_type": "code",
   "execution_count": 22,
   "id": "quick-industry",
   "metadata": {},
   "outputs": [
    {
     "data": {
      "text/html": [
       "<div>\n",
       "<style scoped>\n",
       "    .dataframe tbody tr th:only-of-type {\n",
       "        vertical-align: middle;\n",
       "    }\n",
       "\n",
       "    .dataframe tbody tr th {\n",
       "        vertical-align: top;\n",
       "    }\n",
       "\n",
       "    .dataframe thead th {\n",
       "        text-align: right;\n",
       "    }\n",
       "</style>\n",
       "<table border=\"1\" class=\"dataframe\">\n",
       "  <thead>\n",
       "    <tr style=\"text-align: right;\">\n",
       "      <th></th>\n",
       "      <th>Team</th>\n",
       "      <th>Match Played</th>\n",
       "      <th>Batsman Runs</th>\n",
       "      <th>Balls</th>\n",
       "      <th>Fours</th>\n",
       "      <th>Sixes</th>\n",
       "      <th>Strike Rate</th>\n",
       "      <th>50s</th>\n",
       "      <th>100s</th>\n",
       "    </tr>\n",
       "    <tr>\n",
       "      <th>Players</th>\n",
       "      <th></th>\n",
       "      <th></th>\n",
       "      <th></th>\n",
       "      <th></th>\n",
       "      <th></th>\n",
       "      <th></th>\n",
       "      <th></th>\n",
       "      <th></th>\n",
       "      <th></th>\n",
       "    </tr>\n",
       "  </thead>\n",
       "  <tbody>\n",
       "    <tr>\n",
       "      <th>Moeen Ali</th>\n",
       "      <td>Chennai Super Kings</td>\n",
       "      <td>1</td>\n",
       "      <td>36</td>\n",
       "      <td>24</td>\n",
       "      <td>4</td>\n",
       "      <td>2</td>\n",
       "      <td>150.00</td>\n",
       "      <td>0</td>\n",
       "      <td>0</td>\n",
       "    </tr>\n",
       "    <tr>\n",
       "      <th>Sam Curran</th>\n",
       "      <td>Chennai Super Kings</td>\n",
       "      <td>1</td>\n",
       "      <td>34</td>\n",
       "      <td>15</td>\n",
       "      <td>4</td>\n",
       "      <td>2</td>\n",
       "      <td>226.67</td>\n",
       "      <td>0</td>\n",
       "      <td>0</td>\n",
       "    </tr>\n",
       "  </tbody>\n",
       "</table>\n",
       "</div>"
      ],
      "text/plain": [
       "                           Team  Match Played  Batsman Runs  Balls  Fours  \\\n",
       "Players                                                                     \n",
       "Moeen Ali   Chennai Super Kings             1            36     24      4   \n",
       "Sam Curran  Chennai Super Kings             1            34     15      4   \n",
       "\n",
       "            Sixes  Strike Rate  50s  100s  \n",
       "Players                                    \n",
       "Moeen Ali       2       150.00    0     0  \n",
       "Sam Curran      2       226.67    0     0  "
      ]
     },
     "execution_count": 22,
     "metadata": {},
     "output_type": "execute_result"
    }
   ],
   "source": [
    "x[0][1].nlargest(2,'Fours')"
   ]
  },
  {
   "cell_type": "code",
   "execution_count": 23,
   "id": "industrial-physics",
   "metadata": {},
   "outputs": [
    {
     "data": {
      "text/html": [
       "<div>\n",
       "<style scoped>\n",
       "    .dataframe tbody tr th:only-of-type {\n",
       "        vertical-align: middle;\n",
       "    }\n",
       "\n",
       "    .dataframe tbody tr th {\n",
       "        vertical-align: top;\n",
       "    }\n",
       "\n",
       "    .dataframe thead th {\n",
       "        text-align: right;\n",
       "    }\n",
       "</style>\n",
       "<table border=\"1\" class=\"dataframe\">\n",
       "  <thead>\n",
       "    <tr style=\"text-align: right;\">\n",
       "      <th></th>\n",
       "      <th>Team</th>\n",
       "      <th>Match Played</th>\n",
       "      <th>Batsman Runs</th>\n",
       "      <th>Balls</th>\n",
       "      <th>Fours</th>\n",
       "      <th>Sixes</th>\n",
       "      <th>Strike Rate</th>\n",
       "      <th>50s</th>\n",
       "      <th>100s</th>\n",
       "    </tr>\n",
       "    <tr>\n",
       "      <th>Players</th>\n",
       "      <th></th>\n",
       "      <th></th>\n",
       "      <th></th>\n",
       "      <th></th>\n",
       "      <th></th>\n",
       "      <th></th>\n",
       "      <th></th>\n",
       "      <th></th>\n",
       "      <th></th>\n",
       "    </tr>\n",
       "  </thead>\n",
       "  <tbody>\n",
       "    <tr>\n",
       "      <th>Prithvi Shaw</th>\n",
       "      <td>Delhi Capitals</td>\n",
       "      <td>1</td>\n",
       "      <td>72</td>\n",
       "      <td>38</td>\n",
       "      <td>9</td>\n",
       "      <td>3</td>\n",
       "      <td>189.47</td>\n",
       "      <td>1</td>\n",
       "      <td>0</td>\n",
       "    </tr>\n",
       "    <tr>\n",
       "      <th>Shikhar Dhawan</th>\n",
       "      <td>Delhi Capitals</td>\n",
       "      <td>1</td>\n",
       "      <td>85</td>\n",
       "      <td>54</td>\n",
       "      <td>10</td>\n",
       "      <td>2</td>\n",
       "      <td>157.41</td>\n",
       "      <td>1</td>\n",
       "      <td>0</td>\n",
       "    </tr>\n",
       "  </tbody>\n",
       "</table>\n",
       "</div>"
      ],
      "text/plain": [
       "                          Team  Match Played  Batsman Runs  Balls  Fours  \\\n",
       "Players                                                                    \n",
       "Prithvi Shaw    Delhi Capitals             1            72     38      9   \n",
       "Shikhar Dhawan  Delhi Capitals             1            85     54     10   \n",
       "\n",
       "                Sixes  Strike Rate  50s  100s  \n",
       "Players                                        \n",
       "Prithvi Shaw        3       189.47    1     0  \n",
       "Shikhar Dhawan      2       157.41    1     0  "
      ]
     },
     "execution_count": 23,
     "metadata": {},
     "output_type": "execute_result"
    }
   ],
   "source": [
    "x[1][1].nlargest(2,'Sixes')"
   ]
  },
  {
   "cell_type": "code",
   "execution_count": 24,
   "id": "seeing-lancaster",
   "metadata": {},
   "outputs": [
    {
     "data": {
      "text/html": [
       "<div>\n",
       "<style scoped>\n",
       "    .dataframe tbody tr th:only-of-type {\n",
       "        vertical-align: middle;\n",
       "    }\n",
       "\n",
       "    .dataframe tbody tr th {\n",
       "        vertical-align: top;\n",
       "    }\n",
       "\n",
       "    .dataframe thead th {\n",
       "        text-align: right;\n",
       "    }\n",
       "</style>\n",
       "<table border=\"1\" class=\"dataframe\">\n",
       "  <thead>\n",
       "    <tr style=\"text-align: right;\">\n",
       "      <th></th>\n",
       "      <th>Team</th>\n",
       "      <th>Match Played</th>\n",
       "      <th>Batsman Runs</th>\n",
       "      <th>Balls</th>\n",
       "      <th>Fours</th>\n",
       "      <th>Sixes</th>\n",
       "      <th>Strike Rate</th>\n",
       "      <th>50s</th>\n",
       "      <th>100s</th>\n",
       "    </tr>\n",
       "    <tr>\n",
       "      <th>Players</th>\n",
       "      <th></th>\n",
       "      <th></th>\n",
       "      <th></th>\n",
       "      <th></th>\n",
       "      <th></th>\n",
       "      <th></th>\n",
       "      <th></th>\n",
       "      <th></th>\n",
       "      <th></th>\n",
       "    </tr>\n",
       "  </thead>\n",
       "  <tbody>\n",
       "    <tr>\n",
       "      <th>Dinesh Karthik</th>\n",
       "      <td>Kolkata Knight Riders</td>\n",
       "      <td>1</td>\n",
       "      <td>22</td>\n",
       "      <td>9</td>\n",
       "      <td>2</td>\n",
       "      <td>1</td>\n",
       "      <td>244.44</td>\n",
       "      <td>0</td>\n",
       "      <td>0</td>\n",
       "    </tr>\n",
       "    <tr>\n",
       "      <th>Rahul Tripathi</th>\n",
       "      <td>Kolkata Knight Riders</td>\n",
       "      <td>1</td>\n",
       "      <td>53</td>\n",
       "      <td>29</td>\n",
       "      <td>5</td>\n",
       "      <td>2</td>\n",
       "      <td>182.76</td>\n",
       "      <td>1</td>\n",
       "      <td>0</td>\n",
       "    </tr>\n",
       "  </tbody>\n",
       "</table>\n",
       "</div>"
      ],
      "text/plain": [
       "                                 Team  Match Played  Batsman Runs  Balls  \\\n",
       "Players                                                                    \n",
       "Dinesh Karthik  Kolkata Knight Riders             1            22      9   \n",
       "Rahul Tripathi  Kolkata Knight Riders             1            53     29   \n",
       "\n",
       "                Fours  Sixes  Strike Rate  50s  100s  \n",
       "Players                                               \n",
       "Dinesh Karthik      2      1       244.44    0     0  \n",
       "Rahul Tripathi      5      2       182.76    1     0  "
      ]
     },
     "execution_count": 24,
     "metadata": {},
     "output_type": "execute_result"
    }
   ],
   "source": [
    "x[2][1].nlargest(2,'Strike Rate')"
   ]
  },
  {
   "cell_type": "code",
   "execution_count": 25,
   "id": "violent-version",
   "metadata": {},
   "outputs": [],
   "source": [
    "Fours=Batsman.groupby('Team').Fours.sum().nlargest(10)"
   ]
  },
  {
   "cell_type": "code",
   "execution_count": 26,
   "id": "novel-sailing",
   "metadata": {},
   "outputs": [
    {
     "data": {
      "text/plain": [
       "Team\n",
       "Delhi Capitals                24\n",
       "Rajasthan Royals              22\n",
       "Kolkata Knight Riders         18\n",
       "Punjab Kings                  18\n",
       "Chennai Super Kings           16\n",
       "Mumbai Indians                15\n",
       "Royal Challengers Banglore    12\n",
       "Sunrisers Hyderabad            9\n",
       "Name: Fours, dtype: int64"
      ]
     },
     "execution_count": 26,
     "metadata": {},
     "output_type": "execute_result"
    }
   ],
   "source": [
    "Fours"
   ]
  },
  {
   "cell_type": "code",
   "execution_count": 27,
   "id": "happy-triangle",
   "metadata": {},
   "outputs": [],
   "source": [
    "# %matplotlib  inline\n",
    "# import matplotlib.pyplot as plt\n",
    "# plt.style.use('seaborn')"
   ]
  },
  {
   "cell_type": "code",
   "execution_count": 28,
   "id": "shared-french",
   "metadata": {},
   "outputs": [],
   "source": [
    "# Fours.plot(kind='bar',figsize=(10,6),fontsize=10)\n",
    "# plt.show()"
   ]
  },
  {
   "cell_type": "code",
   "execution_count": 29,
   "id": "assumed-nickname",
   "metadata": {},
   "outputs": [],
   "source": [
    "Sixes= Batsman.groupby('Team').Sixes.sum().nlargest(10)"
   ]
  },
  {
   "cell_type": "code",
   "execution_count": 30,
   "id": "framed-kernel",
   "metadata": {},
   "outputs": [
    {
     "data": {
      "text/plain": [
       "Team\n",
       "Punjab Kings                  13\n",
       "Rajasthan Royals              11\n",
       "Chennai Super Kings           10\n",
       "Sunrisers Hyderabad           10\n",
       "Kolkata Knight Riders          8\n",
       "Mumbai Indians                 6\n",
       "Delhi Capitals                 5\n",
       "Royal Challengers Banglore     4\n",
       "Name: Sixes, dtype: int64"
      ]
     },
     "execution_count": 30,
     "metadata": {},
     "output_type": "execute_result"
    }
   ],
   "source": [
    "Sixes"
   ]
  },
  {
   "cell_type": "code",
   "execution_count": 31,
   "id": "comfortable-roommate",
   "metadata": {},
   "outputs": [],
   "source": [
    "# Sixes.plot(kind='bar',figsize=(10,6),fontsize=10)\n",
    "# plt.show()"
   ]
  },
  {
   "cell_type": "code",
   "execution_count": 32,
   "id": "surrounded-kernel",
   "metadata": {},
   "outputs": [],
   "source": [
    "Fifty = Batsman.groupby('Team')['50s'].sum().nlargest(10)"
   ]
  },
  {
   "cell_type": "code",
   "execution_count": 33,
   "id": "ordered-prime",
   "metadata": {},
   "outputs": [
    {
     "data": {
      "text/plain": [
       "Team\n",
       "Delhi Capitals                2\n",
       "Kolkata Knight Riders         2\n",
       "Punjab Kings                  2\n",
       "Sunrisers Hyderabad           2\n",
       "Chennai Super Kings           1\n",
       "Mumbai Indians                0\n",
       "Rajasthan Royals              0\n",
       "Royal Challengers Banglore    0\n",
       "Name: 50s, dtype: int64"
      ]
     },
     "execution_count": 33,
     "metadata": {},
     "output_type": "execute_result"
    }
   ],
   "source": [
    "Fifty"
   ]
  },
  {
   "cell_type": "code",
   "execution_count": 34,
   "id": "civilian-richmond",
   "metadata": {},
   "outputs": [],
   "source": [
    "Hundred = Batsman.groupby('Team')['100s'].sum().nlargest(10)"
   ]
  },
  {
   "cell_type": "code",
   "execution_count": 35,
   "id": "short-princess",
   "metadata": {},
   "outputs": [
    {
     "data": {
      "text/plain": [
       "Team\n",
       "Rajasthan Royals              1\n",
       "Chennai Super Kings           0\n",
       "Delhi Capitals                0\n",
       "Kolkata Knight Riders         0\n",
       "Mumbai Indians                0\n",
       "Punjab Kings                  0\n",
       "Royal Challengers Banglore    0\n",
       "Sunrisers Hyderabad           0\n",
       "Name: 100s, dtype: int64"
      ]
     },
     "execution_count": 35,
     "metadata": {},
     "output_type": "execute_result"
    }
   ],
   "source": [
    "Hundred"
   ]
  },
  {
   "cell_type": "markdown",
   "id": "electronic-freedom",
   "metadata": {},
   "source": [
    "# Bowler"
   ]
  },
  {
   "cell_type": "code",
   "execution_count": 36,
   "id": "preceding-proof",
   "metadata": {},
   "outputs": [
    {
     "data": {
      "text/html": [
       "<div>\n",
       "<style scoped>\n",
       "    .dataframe tbody tr th:only-of-type {\n",
       "        vertical-align: middle;\n",
       "    }\n",
       "\n",
       "    .dataframe tbody tr th {\n",
       "        vertical-align: top;\n",
       "    }\n",
       "\n",
       "    .dataframe thead th {\n",
       "        text-align: right;\n",
       "    }\n",
       "</style>\n",
       "<table border=\"1\" class=\"dataframe\">\n",
       "  <thead>\n",
       "    <tr style=\"text-align: right;\">\n",
       "      <th></th>\n",
       "      <th>Team</th>\n",
       "      <th>Match Played</th>\n",
       "      <th>Batsman Runs</th>\n",
       "      <th>Balls</th>\n",
       "      <th>Fours</th>\n",
       "      <th>Sixes</th>\n",
       "      <th>Strike Rate</th>\n",
       "      <th>Over</th>\n",
       "      <th>Maiden</th>\n",
       "      <th>Bowler Runs</th>\n",
       "      <th>Wickets</th>\n",
       "      <th>Economy Rate</th>\n",
       "      <th>Catches</th>\n",
       "      <th>Run Out</th>\n",
       "      <th>50s</th>\n",
       "      <th>100s</th>\n",
       "    </tr>\n",
       "    <tr>\n",
       "      <th>Players</th>\n",
       "      <th></th>\n",
       "      <th></th>\n",
       "      <th></th>\n",
       "      <th></th>\n",
       "      <th></th>\n",
       "      <th></th>\n",
       "      <th></th>\n",
       "      <th></th>\n",
       "      <th></th>\n",
       "      <th></th>\n",
       "      <th></th>\n",
       "      <th></th>\n",
       "      <th></th>\n",
       "      <th></th>\n",
       "      <th></th>\n",
       "      <th></th>\n",
       "    </tr>\n",
       "  </thead>\n",
       "  <tbody>\n",
       "    <tr>\n",
       "      <th>Rohit Sharma</th>\n",
       "      <td>Mumbai Indians</td>\n",
       "      <td>1</td>\n",
       "      <td>19</td>\n",
       "      <td>15</td>\n",
       "      <td>1</td>\n",
       "      <td>1</td>\n",
       "      <td>126.67</td>\n",
       "      <td>0.0</td>\n",
       "      <td>0</td>\n",
       "      <td>0</td>\n",
       "      <td>0</td>\n",
       "      <td>0.0</td>\n",
       "      <td>0</td>\n",
       "      <td>0</td>\n",
       "      <td>0</td>\n",
       "      <td>0</td>\n",
       "    </tr>\n",
       "  </tbody>\n",
       "</table>\n",
       "</div>"
      ],
      "text/plain": [
       "                        Team  Match Played  Batsman Runs  Balls  Fours  Sixes  \\\n",
       "Players                                                                         \n",
       "Rohit Sharma  Mumbai Indians             1            19     15      1      1   \n",
       "\n",
       "              Strike Rate  Over  Maiden  Bowler Runs  Wickets  Economy Rate  \\\n",
       "Players                                                                       \n",
       "Rohit Sharma       126.67   0.0       0            0        0           0.0   \n",
       "\n",
       "              Catches  Run Out  50s  100s  \n",
       "Players                                    \n",
       "Rohit Sharma        0        0    0     0  "
      ]
     },
     "execution_count": 36,
     "metadata": {},
     "output_type": "execute_result"
    }
   ],
   "source": [
    "df.head(1)"
   ]
  },
  {
   "cell_type": "code",
   "execution_count": 37,
   "id": "continuous-anthropology",
   "metadata": {},
   "outputs": [],
   "source": [
    "all_bowler=df[['Team','Match Played','Over','Maiden','Bowler Runs','Wickets','Economy Rate']]"
   ]
  },
  {
   "cell_type": "code",
   "execution_count": 38,
   "id": "latest-monitoring",
   "metadata": {},
   "outputs": [],
   "source": [
    "Bowler=all_bowler[all_bowler['Over'] >=0.1]"
   ]
  },
  {
   "cell_type": "code",
   "execution_count": 39,
   "id": "loving-stock",
   "metadata": {},
   "outputs": [
    {
     "data": {
      "text/plain": [
       "(49, 7)"
      ]
     },
     "execution_count": 39,
     "metadata": {},
     "output_type": "execute_result"
    }
   ],
   "source": [
    "Bowler.shape"
   ]
  },
  {
   "cell_type": "code",
   "execution_count": 40,
   "id": "filled-kinase",
   "metadata": {},
   "outputs": [
    {
     "name": "stdout",
     "output_type": "stream",
     "text": [
      "['Mumbai Indians' 'Royal Challengers Banglore' 'Chennai Super Kings'\n",
      " 'Delhi Capitals' 'Kolkata Knight Riders' 'Sunrisers Hyderabad'\n",
      " 'Punjab Kings' 'Rajasthan Royals']\n"
     ]
    }
   ],
   "source": [
    "print(Bowler.Team.unique())"
   ]
  },
  {
   "cell_type": "code",
   "execution_count": 41,
   "id": "meaning-reverse",
   "metadata": {},
   "outputs": [
    {
     "data": {
      "text/plain": [
       "array([4. , 1. , 2. , 3. , 3.4])"
      ]
     },
     "execution_count": 41,
     "metadata": {},
     "output_type": "execute_result"
    }
   ],
   "source": [
    "Bowler.Over.unique()"
   ]
  },
  {
   "cell_type": "code",
   "execution_count": 42,
   "id": "affected-implementation",
   "metadata": {},
   "outputs": [
    {
     "data": {
      "text/plain": [
       "array([25, 28, 43, 26, 36,  7, 14, 21, 27, 22, 41, 33, 16, 24, 53, 18, 47,\n",
       "       40, 23, 32, 34, 30,  8, 35, 45, 37, 55, 49, 12, 20, 31],\n",
       "      dtype=int64)"
      ]
     },
     "execution_count": 42,
     "metadata": {},
     "output_type": "execute_result"
    }
   ],
   "source": [
    "Bowler['Bowler Runs'].unique()"
   ]
  },
  {
   "cell_type": "code",
   "execution_count": 43,
   "id": "accomplished-stereo",
   "metadata": {},
   "outputs": [
    {
     "data": {
      "text/plain": [
       "array([ 6.3,  7. , 10.8,  6.5,  9. , 14. , 10.5,  6.8,  5.5, 10.3, 11. ,\n",
       "        8. , 12. , 14.5, 13. ,  6. , 11.8, 10. ,  5.8, 10.7,  8.5,  7.5,\n",
       "        8.8, 11.2,  9.2, 11.7, 13.8, 12.3,  8.3, 20. , 12.5, 13.3,  7.8,\n",
       "       11.3])"
      ]
     },
     "execution_count": 43,
     "metadata": {},
     "output_type": "execute_result"
    }
   ],
   "source": [
    "Bowler['Economy Rate'].unique()"
   ]
  },
  {
   "cell_type": "code",
   "execution_count": 44,
   "id": "nasty-territory",
   "metadata": {},
   "outputs": [],
   "source": [
    "Wickets= Bowler.groupby('Team').Wickets.sum()"
   ]
  },
  {
   "cell_type": "code",
   "execution_count": 45,
   "id": "cheap-athletics",
   "metadata": {},
   "outputs": [
    {
     "data": {
      "text/plain": [
       "Team\n",
       "Chennai Super Kings           3\n",
       "Delhi Capitals                6\n",
       "Kolkata Knight Riders         5\n",
       "Mumbai Indians                6\n",
       "Punjab Kings                  7\n",
       "Rajasthan Royals              6\n",
       "Royal Challengers Banglore    7\n",
       "Sunrisers Hyderabad           6\n",
       "Name: Wickets, dtype: int64"
      ]
     },
     "execution_count": 45,
     "metadata": {},
     "output_type": "execute_result"
    }
   ],
   "source": [
    "Wickets"
   ]
  },
  {
   "cell_type": "code",
   "execution_count": 46,
   "id": "political-excess",
   "metadata": {},
   "outputs": [],
   "source": [
    "Economy_Rate =  Bowler.groupby('Team')['Economy Rate'].mean().nsmallest(10)"
   ]
  },
  {
   "cell_type": "code",
   "execution_count": 47,
   "id": "favorite-circulation",
   "metadata": {},
   "outputs": [
    {
     "data": {
      "text/plain": [
       "Team\n",
       "Mumbai Indians                 7.920000\n",
       "Royal Challengers Banglore     8.700000\n",
       "Kolkata Knight Riders          8.750000\n",
       "Delhi Capitals                 9.266667\n",
       "Sunrisers Hyderabad           10.016667\n",
       "Chennai Super Kings           10.250000\n",
       "Punjab Kings                  10.800000\n",
       "Rajasthan Royals              11.775000\n",
       "Name: Economy Rate, dtype: float64"
      ]
     },
     "execution_count": 47,
     "metadata": {},
     "output_type": "execute_result"
    }
   ],
   "source": [
    "Economy_Rate"
   ]
  },
  {
   "cell_type": "code",
   "execution_count": 48,
   "id": "accomplished-salmon",
   "metadata": {},
   "outputs": [],
   "source": [
    "# Economy_Rate.plot(kind='bar',figsize=(10,6),fontsize=10)\n",
    "# plt.show()"
   ]
  },
  {
   "cell_type": "code",
   "execution_count": 49,
   "id": "opposite-duncan",
   "metadata": {},
   "outputs": [
    {
     "data": {
      "text/html": [
       "<div>\n",
       "<style scoped>\n",
       "    .dataframe tbody tr th:only-of-type {\n",
       "        vertical-align: middle;\n",
       "    }\n",
       "\n",
       "    .dataframe tbody tr th {\n",
       "        vertical-align: top;\n",
       "    }\n",
       "\n",
       "    .dataframe thead th {\n",
       "        text-align: right;\n",
       "    }\n",
       "</style>\n",
       "<table border=\"1\" class=\"dataframe\">\n",
       "  <thead>\n",
       "    <tr style=\"text-align: right;\">\n",
       "      <th></th>\n",
       "      <th>Team</th>\n",
       "      <th>Match Played</th>\n",
       "      <th>Over</th>\n",
       "      <th>Maiden</th>\n",
       "      <th>Bowler Runs</th>\n",
       "      <th>Wickets</th>\n",
       "      <th>Economy Rate</th>\n",
       "    </tr>\n",
       "    <tr>\n",
       "      <th>Players</th>\n",
       "      <th></th>\n",
       "      <th></th>\n",
       "      <th></th>\n",
       "      <th></th>\n",
       "      <th></th>\n",
       "      <th></th>\n",
       "      <th></th>\n",
       "    </tr>\n",
       "  </thead>\n",
       "  <tbody>\n",
       "    <tr>\n",
       "      <th>Krunal Pandya</th>\n",
       "      <td>Mumbai Indians</td>\n",
       "      <td>1</td>\n",
       "      <td>4.0</td>\n",
       "      <td>0</td>\n",
       "      <td>25</td>\n",
       "      <td>1</td>\n",
       "      <td>6.3</td>\n",
       "    </tr>\n",
       "  </tbody>\n",
       "</table>\n",
       "</div>"
      ],
      "text/plain": [
       "                         Team  Match Played  Over  Maiden  Bowler Runs  \\\n",
       "Players                                                                  \n",
       "Krunal Pandya  Mumbai Indians             1   4.0       0           25   \n",
       "\n",
       "               Wickets  Economy Rate  \n",
       "Players                               \n",
       "Krunal Pandya        1           6.3  "
      ]
     },
     "execution_count": 49,
     "metadata": {},
     "output_type": "execute_result"
    }
   ],
   "source": [
    "Bowler.head(1)"
   ]
  },
  {
   "cell_type": "code",
   "execution_count": 50,
   "id": "organized-chemistry",
   "metadata": {},
   "outputs": [
    {
     "data": {
      "text/html": [
       "<div>\n",
       "<style scoped>\n",
       "    .dataframe tbody tr th:only-of-type {\n",
       "        vertical-align: middle;\n",
       "    }\n",
       "\n",
       "    .dataframe tbody tr th {\n",
       "        vertical-align: top;\n",
       "    }\n",
       "\n",
       "    .dataframe thead th {\n",
       "        text-align: right;\n",
       "    }\n",
       "</style>\n",
       "<table border=\"1\" class=\"dataframe\">\n",
       "  <thead>\n",
       "    <tr style=\"text-align: right;\">\n",
       "      <th></th>\n",
       "      <th>Team</th>\n",
       "      <th>Match Played</th>\n",
       "      <th>Over</th>\n",
       "      <th>Maiden</th>\n",
       "      <th>Bowler Runs</th>\n",
       "      <th>Wickets</th>\n",
       "      <th>Economy Rate</th>\n",
       "    </tr>\n",
       "    <tr>\n",
       "      <th>Players</th>\n",
       "      <th></th>\n",
       "      <th></th>\n",
       "      <th></th>\n",
       "      <th></th>\n",
       "      <th></th>\n",
       "      <th></th>\n",
       "      <th></th>\n",
       "    </tr>\n",
       "  </thead>\n",
       "  <tbody>\n",
       "    <tr>\n",
       "      <th>Avesh Khan</th>\n",
       "      <td>Delhi Capitals</td>\n",
       "      <td>1</td>\n",
       "      <td>4.0</td>\n",
       "      <td>0</td>\n",
       "      <td>23</td>\n",
       "      <td>2</td>\n",
       "      <td>5.8</td>\n",
       "    </tr>\n",
       "    <tr>\n",
       "      <th>Chris Woakes</th>\n",
       "      <td>Delhi Capitals</td>\n",
       "      <td>1</td>\n",
       "      <td>3.0</td>\n",
       "      <td>0</td>\n",
       "      <td>18</td>\n",
       "      <td>2</td>\n",
       "      <td>6.0</td>\n",
       "    </tr>\n",
       "    <tr>\n",
       "      <th>Rashid Khan</th>\n",
       "      <td>Sunrisers Hyderabad</td>\n",
       "      <td>1</td>\n",
       "      <td>4.0</td>\n",
       "      <td>0</td>\n",
       "      <td>24</td>\n",
       "      <td>2</td>\n",
       "      <td>6.0</td>\n",
       "    </tr>\n",
       "    <tr>\n",
       "      <th>Jasprit Bumrah</th>\n",
       "      <td>Mumbai Indians</td>\n",
       "      <td>1</td>\n",
       "      <td>4.0</td>\n",
       "      <td>0</td>\n",
       "      <td>26</td>\n",
       "      <td>2</td>\n",
       "      <td>6.5</td>\n",
       "    </tr>\n",
       "    <tr>\n",
       "      <th>Harshal Patel</th>\n",
       "      <td>Royal Challengers Banglore</td>\n",
       "      <td>1</td>\n",
       "      <td>4.0</td>\n",
       "      <td>0</td>\n",
       "      <td>27</td>\n",
       "      <td>5</td>\n",
       "      <td>6.8</td>\n",
       "    </tr>\n",
       "    <tr>\n",
       "      <th>Marco Jansen</th>\n",
       "      <td>Mumbai Indians</td>\n",
       "      <td>1</td>\n",
       "      <td>4.0</td>\n",
       "      <td>0</td>\n",
       "      <td>28</td>\n",
       "      <td>2</td>\n",
       "      <td>7.0</td>\n",
       "    </tr>\n",
       "  </tbody>\n",
       "</table>\n",
       "</div>"
      ],
      "text/plain": [
       "                                      Team  Match Played  Over  Maiden  \\\n",
       "Players                                                                  \n",
       "Avesh Khan                  Delhi Capitals             1   4.0       0   \n",
       "Chris Woakes                Delhi Capitals             1   3.0       0   \n",
       "Rashid Khan            Sunrisers Hyderabad             1   4.0       0   \n",
       "Jasprit Bumrah              Mumbai Indians             1   4.0       0   \n",
       "Harshal Patel   Royal Challengers Banglore             1   4.0       0   \n",
       "Marco Jansen                Mumbai Indians             1   4.0       0   \n",
       "\n",
       "                Bowler Runs  Wickets  Economy Rate  \n",
       "Players                                             \n",
       "Avesh Khan               23        2           5.8  \n",
       "Chris Woakes             18        2           6.0  \n",
       "Rashid Khan              24        2           6.0  \n",
       "Jasprit Bumrah           26        2           6.5  \n",
       "Harshal Patel            27        5           6.8  \n",
       "Marco Jansen             28        2           7.0  "
      ]
     },
     "execution_count": 50,
     "metadata": {},
     "output_type": "execute_result"
    }
   ],
   "source": [
    "Bowler[(Bowler['Over'] >=2) & (Bowler['Economy Rate'].between(4,7)) & (Bowler['Wickets'] >= 2)].nsmallest(10,'Economy Rate')"
   ]
  },
  {
   "cell_type": "code",
   "execution_count": 51,
   "id": "conscious-atlanta",
   "metadata": {},
   "outputs": [],
   "source": [
    "run_wicket=df[(df['Batsman Runs'] >=1) &(df['Wickets'] >=1)].nlargest(5,'Batsman Runs')"
   ]
  },
  {
   "cell_type": "code",
   "execution_count": 52,
   "id": "illegal-marketing",
   "metadata": {},
   "outputs": [
    {
     "data": {
      "text/html": [
       "<div>\n",
       "<style scoped>\n",
       "    .dataframe tbody tr th:only-of-type {\n",
       "        vertical-align: middle;\n",
       "    }\n",
       "\n",
       "    .dataframe tbody tr th {\n",
       "        vertical-align: top;\n",
       "    }\n",
       "\n",
       "    .dataframe thead th {\n",
       "        text-align: right;\n",
       "    }\n",
       "</style>\n",
       "<table border=\"1\" class=\"dataframe\">\n",
       "  <thead>\n",
       "    <tr style=\"text-align: right;\">\n",
       "      <th></th>\n",
       "      <th>Batsman Runs</th>\n",
       "      <th>Wickets</th>\n",
       "    </tr>\n",
       "    <tr>\n",
       "      <th>Players</th>\n",
       "      <th></th>\n",
       "      <th></th>\n",
       "    </tr>\n",
       "  </thead>\n",
       "  <tbody>\n",
       "    <tr>\n",
       "      <th>Riyan Parag</th>\n",
       "      <td>25</td>\n",
       "      <td>1</td>\n",
       "    </tr>\n",
       "    <tr>\n",
       "      <th>Mohammad Nabi</th>\n",
       "      <td>14</td>\n",
       "      <td>2</td>\n",
       "    </tr>\n",
       "    <tr>\n",
       "      <th>Washington Sundar</th>\n",
       "      <td>10</td>\n",
       "      <td>1</td>\n",
       "    </tr>\n",
       "    <tr>\n",
       "      <th>Krunal Pandya</th>\n",
       "      <td>7</td>\n",
       "      <td>1</td>\n",
       "    </tr>\n",
       "    <tr>\n",
       "      <th>Andre Russell</th>\n",
       "      <td>5</td>\n",
       "      <td>1</td>\n",
       "    </tr>\n",
       "  </tbody>\n",
       "</table>\n",
       "</div>"
      ],
      "text/plain": [
       "                   Batsman Runs  Wickets\n",
       "Players                                 \n",
       "Riyan Parag                  25        1\n",
       "Mohammad Nabi                14        2\n",
       "Washington Sundar            10        1\n",
       "Krunal Pandya                 7        1\n",
       "Andre Russell                 5        1"
      ]
     },
     "execution_count": 52,
     "metadata": {},
     "output_type": "execute_result"
    }
   ],
   "source": [
    "run_wicket[['Batsman Runs','Wickets']]"
   ]
  },
  {
   "cell_type": "code",
   "execution_count": null,
   "id": "available-cache",
   "metadata": {},
   "outputs": [],
   "source": []
  }
 ],
 "metadata": {
  "kernelspec": {
   "display_name": "Python 3",
   "language": "python",
   "name": "python3"
  },
  "language_info": {
   "codemirror_mode": {
    "name": "ipython",
    "version": 3
   },
   "file_extension": ".py",
   "mimetype": "text/x-python",
   "name": "python",
   "nbconvert_exporter": "python",
   "pygments_lexer": "ipython3",
   "version": "3.8.8"
  }
 },
 "nbformat": 4,
 "nbformat_minor": 5
}
